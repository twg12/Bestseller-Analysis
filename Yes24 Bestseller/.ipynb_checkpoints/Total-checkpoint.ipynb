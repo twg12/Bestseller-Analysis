{
 "cells": [
  {
   "cell_type": "code",
   "execution_count": 1,
   "metadata": {},
   "outputs": [],
   "source": [
    "import pandas as pd\n",
    "\n",
    "import matplotlib.pyplot as plt\n",
    "import matplotlib as mpl\n",
    "import matplotlib.font_manager as fm\n",
    "for font in fm.fontManager.ttflist:\n",
    "    if font.name in ['AppleGothic', 'Malgun Gothic']:\n",
    "        plt.rcParams['font.family'] = font.name\n",
    "        break\n",
    "plt.rcParams['font.family']\n",
    "\n",
    "%matplotlib inline\n",
    "mpl.rcParams['axes.unicode_minus'] = False\n",
    "plt.rcParams[\"axes.grid\"] = True\n",
    "plt.rcParams[\"figure.figsize\"] = (14,4)"
   ]
  },
  {
   "cell_type": "code",
   "execution_count": 8,
   "metadata": {},
   "outputs": [],
   "source": [
    "# 2008년 우선\n",
    "Yes24_200801 = pd.read_csv('200801.csv', encoding = 'cp949')\n",
    "Yes24_200802 = pd.read_csv('200802.csv', encoding = 'cp949')\n",
    "Yes24_200803 = pd.read_csv('200803.csv', encoding = 'cp949')\n",
    "Yes24_200804 = pd.read_csv('200804.csv', encoding = 'cp949')\n",
    "Yes24_200805 = pd.read_csv('200805.csv', encoding = 'cp949')\n",
    "Yes24_200806 = pd.read_csv('200806.csv', encoding = 'cp949')\n",
    "Yes24_200807 = pd.read_csv('200807.csv', encoding = 'cp949')\n",
    "Yes24_200808 = pd.read_csv('200808.csv', encoding = 'cp949')\n",
    "Yes24_200809 = pd.read_csv('200809.csv', encoding = 'cp949')\n",
    "Yes24_200810 = pd.read_csv('200810.csv', encoding = 'cp949')\n",
    "Yes24_200811 = pd.read_csv('200811.csv', encoding = 'cp949')\n",
    "Yes24_200812 = pd.read_csv('200812.csv', encoding = 'cp949')"
   ]
  },
  {
   "cell_type": "code",
   "execution_count": 17,
   "metadata": {},
   "outputs": [],
   "source": [
    "List_2008 = [Yes24_200801, Yes24_200802, Yes24_200803, Yes24_200804, Yes24_200805, Yes24_200806, Yes24_200807, Yes24_200808, Yes24_200809, Yes24_200810, Yes24_200811, Yes24_200812]"
   ]
  },
  {
   "cell_type": "code",
   "execution_count": 23,
   "metadata": {},
   "outputs": [],
   "source": [
    "for bs_list in List_2008:\n",
    "        bs_list['Year'] = '2008'\n",
    "        "
   ]
  },
  {
   "cell_type": "code",
   "execution_count": 45,
   "metadata": {},
   "outputs": [
    {
     "data": {
      "text/html": [
       "<div>\n",
       "<style scoped>\n",
       "    .dataframe tbody tr th:only-of-type {\n",
       "        vertical-align: middle;\n",
       "    }\n",
       "\n",
       "    .dataframe tbody tr th {\n",
       "        vertical-align: top;\n",
       "    }\n",
       "\n",
       "    .dataframe thead th {\n",
       "        text-align: right;\n",
       "    }\n",
       "</style>\n",
       "<table border=\"1\" class=\"dataframe\">\n",
       "  <thead>\n",
       "    <tr style=\"text-align: right;\">\n",
       "      <th></th>\n",
       "      <th>순위</th>\n",
       "      <th>ISBN</th>\n",
       "      <th>상품번호</th>\n",
       "      <th>상품명</th>\n",
       "      <th>판매가</th>\n",
       "      <th>YES포인트</th>\n",
       "      <th>저자</th>\n",
       "      <th>출판사</th>\n",
       "      <th>설명</th>\n",
       "      <th>출고예상일</th>\n",
       "      <th>관리분류</th>\n",
       "      <th>Year</th>\n",
       "    </tr>\n",
       "  </thead>\n",
       "  <tbody>\n",
       "    <tr>\n",
       "      <th>0</th>\n",
       "      <td>1</td>\n",
       "      <td>9.788984e+12</td>\n",
       "      <td>2742402</td>\n",
       "      <td>해리포터와 죽음의 성물 4</td>\n",
       "      <td>7,650원</td>\n",
       "      <td>420원</td>\n",
       "      <td>J.K. 롤링/최인자</td>\n",
       "      <td>문학수첩</td>\n",
       "      <td>1997년부터 2007년까지, 무려 10년이라는 긴 시간 끝에 해리포터 시리즈 드디...</td>\n",
       "      <td>4</td>\n",
       "      <td>국내도서-소설/시/희곡</td>\n",
       "      <td>2008</td>\n",
       "    </tr>\n",
       "    <tr>\n",
       "      <th>80</th>\n",
       "      <td>1</td>\n",
       "      <td>9.788952e+12</td>\n",
       "      <td>2599166</td>\n",
       "      <td>The Secret 시크릿</td>\n",
       "      <td>12,420원</td>\n",
       "      <td>690원</td>\n",
       "      <td>론다 번/김우열</td>\n",
       "      <td>살림Biz</td>\n",
       "      <td>인생을 성공으로 이끄는 ‘위대한 비밀’의 단편들은 오래 전부터 구전과 문학과 종교와...</td>\n",
       "      <td>1</td>\n",
       "      <td>국내도서-자기계발</td>\n",
       "      <td>2008</td>\n",
       "    </tr>\n",
       "    <tr>\n",
       "      <th>160</th>\n",
       "      <td>1</td>\n",
       "      <td>9.788952e+12</td>\n",
       "      <td>2599166</td>\n",
       "      <td>The Secret 시크릿</td>\n",
       "      <td>12,420원</td>\n",
       "      <td>690원</td>\n",
       "      <td>론다 번/김우열</td>\n",
       "      <td>살림Biz</td>\n",
       "      <td>인생을 성공으로 이끄는 ‘위대한 비밀’의 단편들은 오래 전부터 구전과 문학과 종교와...</td>\n",
       "      <td>1</td>\n",
       "      <td>국내도서-자기계발</td>\n",
       "      <td>2008</td>\n",
       "    </tr>\n",
       "  </tbody>\n",
       "</table>\n",
       "</div>"
      ],
      "text/plain": [
       "     순위          ISBN     상품번호             상품명      판매가 YES포인트           저자  \\\n",
       "0     1  9.788984e+12  2742402  해리포터와 죽음의 성물 4   7,650원   420원  J.K. 롤링/최인자   \n",
       "80    1  9.788952e+12  2599166  The Secret 시크릿  12,420원   690원     론다 번/김우열   \n",
       "160   1  9.788952e+12  2599166  The Secret 시크릿  12,420원   690원     론다 번/김우열   \n",
       "\n",
       "       출판사                                                 설명  출고예상일  \\\n",
       "0     문학수첩  1997년부터 2007년까지, 무려 10년이라는 긴 시간 끝에 해리포터 시리즈 드디...      4   \n",
       "80   살림Biz  인생을 성공으로 이끄는 ‘위대한 비밀’의 단편들은 오래 전부터 구전과 문학과 종교와...      1   \n",
       "160  살림Biz  인생을 성공으로 이끄는 ‘위대한 비밀’의 단편들은 오래 전부터 구전과 문학과 종교와...      1   \n",
       "\n",
       "             관리분류  Year  \n",
       "0    국내도서-소설/시/희곡  2008  \n",
       "80      국내도서-자기계발  2008  \n",
       "160     국내도서-자기계발  2008  "
      ]
     },
     "execution_count": 45,
     "metadata": {},
     "output_type": "execute_result"
    }
   ],
   "source": [
    "Yes24_2008 = pd.concat([Yes24_200801, Yes24_200802, Yes24_200803, Yes24_200804, Yes24_200805, Yes24_200806, Yes24_200807, Yes24_200808, Yes24_200809, Yes24_200810, Yes24_200811, Yes24_200812], ignore_index=True)\n",
    "Yes24_2008[Yes24_2008['순위'] == 1].head(3)"
   ]
  },
  {
   "cell_type": "code",
   "execution_count": 25,
   "metadata": {},
   "outputs": [],
   "source": [
    "# concat을 하더라도 오리지널 연도를 지킬 수 있는 방법?"
   ]
  },
  {
   "cell_type": "code",
   "execution_count": 43,
   "metadata": {},
   "outputs": [
    {
     "ename": "SyntaxError",
     "evalue": "can't assign to function call (<ipython-input-43-7f472bbf2061>, line 1)",
     "output_type": "error",
     "traceback": [
      "\u001b[1;36m  File \u001b[1;32m\"<ipython-input-43-7f472bbf2061>\"\u001b[1;36m, line \u001b[1;32m1\u001b[0m\n\u001b[1;33m    for int(Yes24_2008['순위']) in Yes24_2008:\u001b[0m\n\u001b[1;37m       ^\u001b[0m\n\u001b[1;31mSyntaxError\u001b[0m\u001b[1;31m:\u001b[0m can't assign to function call\n"
     ]
    }
   ],
   "source": [
    "for int(Yes24_2008['순위']) in Yes24_2008:\n",
    "    if i['순위'] in range(80):\n",
    "        i['Month'] = '1'\n",
    "    "
   ]
  },
  {
   "cell_type": "code",
   "execution_count": null,
   "metadata": {},
   "outputs": [],
   "source": []
  },
  {
   "cell_type": "code",
   "execution_count": null,
   "metadata": {},
   "outputs": [],
   "source": []
  }
 ],
 "metadata": {
  "kernelspec": {
   "display_name": "Python 3",
   "language": "python",
   "name": "python3"
  },
  "language_info": {
   "codemirror_mode": {
    "name": "ipython",
    "version": 3
   },
   "file_extension": ".py",
   "mimetype": "text/x-python",
   "name": "python",
   "nbconvert_exporter": "python",
   "pygments_lexer": "ipython3",
   "version": "3.7.3"
  }
 },
 "nbformat": 4,
 "nbformat_minor": 2
}
