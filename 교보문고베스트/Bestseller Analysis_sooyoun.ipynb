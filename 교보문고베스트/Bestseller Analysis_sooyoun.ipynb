{
 "cells": [
  {
   "cell_type": "code",
   "execution_count": 2,
   "metadata": {},
   "outputs": [],
   "source": [
    "# Bestseller Analysis\n",
    "import pandas as pd\n",
    "import numpy as np\n",
    "%matplotlib inline\n",
    "import matplotlib.pyplot as plt\n",
    "import matplotlib as mpl"
   ]
  },
  {
   "cell_type": "code",
   "execution_count": 3,
   "metadata": {},
   "outputs": [
    {
     "data": {
      "text/plain": [
       "['AppleGothic']"
      ]
     },
     "execution_count": 3,
     "metadata": {},
     "output_type": "execute_result"
    }
   ],
   "source": [
    "import matplotlib.font_manager as fm\n",
    "for font in fm.fontManager.ttflist:\n",
    "    if font.name in ['AppleGothic', 'Malgun Gothic']:\n",
    "        plt.rcParams['font.family'] = font.name\n",
    "        break\n",
    "plt.rcParams['font.family']"
   ]
  },
  {
   "cell_type": "markdown",
   "metadata": {},
   "source": [
    "# 교보문고 사이트에서 2000년부터 2018년까지 베스트셀러 데이터를 불러오자"
   ]
  },
  {
   "cell_type": "code",
   "execution_count": 4,
   "metadata": {},
   "outputs": [],
   "source": [
    "B2000 = pd.read_csv('베스트_2000.csv', encoding = 'cp949', sep = ';')\n",
    "B2001 = pd.read_csv('베스트_2001.csv', encoding = 'cp949', sep = ';')\n",
    "B2002 = pd.read_csv('베스트_2002.csv', encoding = 'cp949', sep = ';')\n",
    "B2003 = pd.read_csv('베스트_2003.csv', encoding = 'cp949', sep = ';')\n",
    "B2004 = pd.read_csv('베스트_2004.csv', encoding = 'cp949', sep = ';')\n",
    "B2005 = pd.read_csv('베스트_2005.csv', encoding = 'cp949', sep = ';')\n",
    "B2006 = pd.read_csv('베스트_2006.csv', encoding = 'cp949', sep = ';')\n",
    "B2007 = pd.read_csv('베스트_2007.csv', encoding = 'cp949', sep = ';')\n",
    "B2008 = pd.read_csv('베스트_2008.csv', encoding = 'cp949', sep = ';')\n",
    "B2009 = pd.read_csv('베스트_2009.csv', encoding = 'cp949', sep = ';')\n",
    "B2010 = pd.read_csv('베스트_2010.csv', encoding = 'cp949', sep = ';')\n",
    "B2011 = pd.read_csv('베스트_2011.csv', encoding = 'cp949', sep = ';')\n",
    "B2012 = pd.read_csv('베스트_2012.csv', encoding = 'cp949', sep = ';')\n",
    "B2013 = pd.read_csv('베스트_2013.csv', encoding = 'cp949', sep = ';')\n",
    "B2014 = pd.read_csv('베스트_2014.csv', encoding = 'cp949', sep = ';')\n",
    "B2015 = pd.read_csv('베스트_2015.csv', encoding = 'cp949', sep = ';')\n",
    "B2016 = pd.read_csv('베스트_2016.csv', encoding = 'cp949', sep = ';')\n",
    "B2017 = pd.read_csv('베스트_2017.csv', encoding = 'cp949', sep = ';')\n",
    "B2018 = pd.read_csv('베스트_2018.csv', encoding = 'cp949', sep = ';')"
   ]
  },
  {
   "cell_type": "code",
   "execution_count": 29,
   "metadata": {},
   "outputs": [
    {
     "data": {
      "text/plain": [
       "0      9788925563350\n",
       "1      9791162202913\n",
       "2      9788957369364\n",
       "3      9788937473135\n",
       "4      9791187119845\n",
       "5      9791195522125\n",
       "6      9791196394509\n",
       "7      9788998274795\n",
       "8      9788972756194\n",
       "9      9788971998557\n",
       "10     9788901219943\n",
       "11     9791185952987\n",
       "12     9788954637756\n",
       "13     9788965132288\n",
       "14     9788965236504\n",
       "15     9791160560510\n",
       "16     9788997092772\n",
       "17     9788925563367\n",
       "18     9791161903538\n",
       "19     9788934972464\n",
       "20     9791186757093\n",
       "21     9788901223032\n",
       "22     9788965421832\n",
       "23     9788952775184\n",
       "24     9788970656250\n",
       "25     9788932919126\n",
       "26     9788968331503\n",
       "27     9788990982575\n",
       "28     9788994120966\n",
       "29     9788932473802\n",
       "           ...      \n",
       "170    9788992441575\n",
       "171    9791187481423\n",
       "172    9791133477296\n",
       "173    9788968330889\n",
       "174    9791186560785\n",
       "175    9788925563022\n",
       "176    9788935212224\n",
       "177    9791161650401\n",
       "178    9791160401455\n",
       "179    9791158510688\n",
       "180    9788950966447\n",
       "181    9791159031076\n",
       "182    9788926366028\n",
       "183    9788901214801\n",
       "184    9788950973063\n",
       "185    9791162540145\n",
       "186    9788932030395\n",
       "187    9788996895107\n",
       "188    9788992969536\n",
       "189    9788936476694\n",
       "190    9791185419022\n",
       "191    9788970129792\n",
       "192    9788958628224\n",
       "193    9788925563770\n",
       "194    9791189125264\n",
       "195    9788983926845\n",
       "196    9788959139309\n",
       "197    9788954643535\n",
       "198    9788965422495\n",
       "199    9791186805992\n",
       "Name: ISBN, Length: 200, dtype: object"
      ]
     },
     "execution_count": 29,
     "metadata": {},
     "output_type": "execute_result"
    }
   ],
   "source": [
    "B2018['ISBN'].astype(str)"
   ]
  },
  {
   "cell_type": "code",
   "execution_count": 5,
   "metadata": {},
   "outputs": [
    {
     "data": {
      "text/plain": [
       "(50, 8)"
      ]
     },
     "execution_count": 5,
     "metadata": {},
     "output_type": "execute_result"
    }
   ],
   "source": [
    "# 2000년 데이터로 한 해 당 몇 위 까지 베스트셀러 데이터가 있는지 보기 \n",
    "B2000.shape"
   ]
  },
  {
   "cell_type": "code",
   "execution_count": 6,
   "metadata": {},
   "outputs": [],
   "source": [
    "# 2000년 ~ 2018년 데이터 합쳐서 한 테이블로 만들기 \n",
    "B2000_2018 = pd.concat([B2000, B2001, B2002, B2003, B2004, B2005, B2006, B2007, B2008, B2009, B2010, B2011, B2012, B2013, B2014, B2015, B2016, B2017, B2018], ignore_index=True)"
   ]
  },
  {
   "cell_type": "code",
   "execution_count": 7,
   "metadata": {},
   "outputs": [
    {
     "data": {
      "text/plain": [
       "(2750, 8)"
      ]
     },
     "execution_count": 7,
     "metadata": {},
     "output_type": "execute_result"
    }
   ],
   "source": [
    "# 전체 데이터 프레임 모양 보기 \n",
    "B2000_2018.shape"
   ]
  },
  {
   "cell_type": "code",
   "execution_count": 8,
   "metadata": {},
   "outputs": [],
   "source": [
    "# 왜 열이 2750개나 나오지? 찾아보니   \n",
    "# 2000년 ~ 2004년 기간에는 상위 50개, 2005년 ~ 2007년 기간에는 상위 100개, 이후 2018년까지는 상위 200개 베스트셀러까지 데이터 있음.  \n",
    "# 데이터 분석의 통일성을 위해 매 해 상위 50개로 제한하자"
   ]
  },
  {
   "cell_type": "code",
   "execution_count": 9,
   "metadata": {
    "scrolled": true
   },
   "outputs": [
    {
     "data": {
      "text/html": [
       "<div>\n",
       "<style scoped>\n",
       "    .dataframe tbody tr th:only-of-type {\n",
       "        vertical-align: middle;\n",
       "    }\n",
       "\n",
       "    .dataframe tbody tr th {\n",
       "        vertical-align: top;\n",
       "    }\n",
       "\n",
       "    .dataframe thead th {\n",
       "        text-align: right;\n",
       "    }\n",
       "</style>\n",
       "<table border=\"1\" class=\"dataframe\">\n",
       "  <thead>\n",
       "    <tr style=\"text-align: right;\">\n",
       "      <th></th>\n",
       "      <th>순위</th>\n",
       "      <th>ISBN</th>\n",
       "      <th>도서명</th>\n",
       "      <th>저자명</th>\n",
       "      <th>출판사명</th>\n",
       "      <th>출간일</th>\n",
       "      <th>분야</th>\n",
       "      <th>정가</th>\n",
       "    </tr>\n",
       "  </thead>\n",
       "  <tbody>\n",
       "    <tr>\n",
       "      <th>0</th>\n",
       "      <td>1</td>\n",
       "      <td>9788984370067</td>\n",
       "      <td>가시고기</td>\n",
       "      <td>조창인</td>\n",
       "      <td>밝은세상</td>\n",
       "      <td>20000110</td>\n",
       "      <td>소설</td>\n",
       "      <td>\\7,500</td>\n",
       "    </tr>\n",
       "    <tr>\n",
       "      <th>1</th>\n",
       "      <td>2</td>\n",
       "      <td>9788983920683</td>\n",
       "      <td>해리포터와 마법사의 돌 제1권 1</td>\n",
       "      <td>조앤 K. 롤링</td>\n",
       "      <td>문학수첩</td>\n",
       "      <td>20091005</td>\n",
       "      <td>소설</td>\n",
       "      <td>\\8,000</td>\n",
       "    </tr>\n",
       "    <tr>\n",
       "      <th>2</th>\n",
       "      <td>3</td>\n",
       "      <td>9788982732362</td>\n",
       "      <td>부자 아빠 가난한 아빠. 1</td>\n",
       "      <td>로버트 기요사키</td>\n",
       "      <td>황금가지</td>\n",
       "      <td>20090302</td>\n",
       "      <td>경제/경영</td>\n",
       "      <td>\\12,000</td>\n",
       "    </tr>\n",
       "    <tr>\n",
       "      <th>3</th>\n",
       "      <td>4</td>\n",
       "      <td>9788988045930</td>\n",
       "      <td>국화꽃 향기. 1</td>\n",
       "      <td>김하인</td>\n",
       "      <td>생각의나무</td>\n",
       "      <td>20090420</td>\n",
       "      <td>소설</td>\n",
       "      <td>\\8,800</td>\n",
       "    </tr>\n",
       "    <tr>\n",
       "      <th>4</th>\n",
       "      <td>5</td>\n",
       "      <td>9788986167511</td>\n",
       "      <td>영어공부 절대로 하지마라</td>\n",
       "      <td>정찬용</td>\n",
       "      <td>사회평론</td>\n",
       "      <td>19990719</td>\n",
       "      <td>외국어</td>\n",
       "      <td>\\6,500</td>\n",
       "    </tr>\n",
       "  </tbody>\n",
       "</table>\n",
       "</div>"
      ],
      "text/plain": [
       "   순위           ISBN                 도서명       저자명   출판사명       출간일     분야  \\\n",
       "0   1  9788984370067                가시고기       조창인   밝은세상  20000110     소설   \n",
       "1   2  9788983920683  해리포터와 마법사의 돌 제1권 1  조앤 K. 롤링   문학수첩  20091005     소설   \n",
       "2   3  9788982732362     부자 아빠 가난한 아빠. 1  로버트 기요사키   황금가지  20090302  경제/경영   \n",
       "3   4  9788988045930           국화꽃 향기. 1       김하인  생각의나무  20090420     소설   \n",
       "4   5  9788986167511       영어공부 절대로 하지마라       정찬용   사회평론  19990719    외국어   \n",
       "\n",
       "        정가  \n",
       "0   \\7,500  \n",
       "1   \\8,000  \n",
       "2  \\12,000  \n",
       "3   \\8,800  \n",
       "4   \\6,500  "
      ]
     },
     "execution_count": 9,
     "metadata": {},
     "output_type": "execute_result"
    }
   ],
   "source": [
    "B2000.head()"
   ]
  },
  {
   "cell_type": "code",
   "execution_count": 10,
   "metadata": {},
   "outputs": [],
   "source": [
    "B2005_50 = B2005[0:50]\n",
    "B2006_50 = B2006[0:50]\n",
    "B2007_50 = B2005[0:50]\n",
    "B2008_50 = B2005[0:50]\n",
    "B2009_50 = B2005[0:50]\n",
    "B2010_50 = B2005[0:50]\n",
    "B2011_50 = B2005[0:50]\n",
    "B2012_50 = B2005[0:50]\n",
    "B2013_50 = B2005[0:50]\n",
    "B2014_50 = B2005[0:50]\n",
    "B2015_50 = B2005[0:50]\n",
    "B2016_50 = B2005[0:50]\n",
    "B2017_50 = B2005[0:50]\n",
    "B2018_50 = B2005[0:50]"
   ]
  },
  {
   "cell_type": "code",
   "execution_count": 11,
   "metadata": {},
   "outputs": [
    {
     "data": {
      "text/plain": [
       "(50, 8)"
      ]
     },
     "execution_count": 11,
     "metadata": {},
     "output_type": "execute_result"
    }
   ],
   "source": [
    "B2018_50.shape"
   ]
  },
  {
   "cell_type": "code",
   "execution_count": 12,
   "metadata": {},
   "outputs": [],
   "source": [
    "# 2000년 ~ 2018년 베스트셀러 1~50위 데이터 합쳐서 한 테이블로 만들기 \n",
    "B20002018_50 = pd.concat([B2000, B2001, B2002, B2003, B2004, B2005_50, B2006_50, B2007_50, B2008_50, B2009_50, B2010_50, B2011_50, B2012_50, B2013_50, B2014_50, B2015_50, B2016_50, B2017_50, B2018_50], ignore_index=True)"
   ]
  },
  {
   "cell_type": "code",
   "execution_count": 13,
   "metadata": {},
   "outputs": [
    {
     "data": {
      "text/plain": [
       "(950, 8)"
      ]
     },
     "execution_count": 13,
     "metadata": {},
     "output_type": "execute_result"
    }
   ],
   "source": [
    "B20002018_50.shape"
   ]
  },
  {
   "cell_type": "code",
   "execution_count": 14,
   "metadata": {},
   "outputs": [
    {
     "data": {
      "text/html": [
       "<div>\n",
       "<style scoped>\n",
       "    .dataframe tbody tr th:only-of-type {\n",
       "        vertical-align: middle;\n",
       "    }\n",
       "\n",
       "    .dataframe tbody tr th {\n",
       "        vertical-align: top;\n",
       "    }\n",
       "\n",
       "    .dataframe thead th {\n",
       "        text-align: right;\n",
       "    }\n",
       "</style>\n",
       "<table border=\"1\" class=\"dataframe\">\n",
       "  <thead>\n",
       "    <tr style=\"text-align: right;\">\n",
       "      <th></th>\n",
       "      <th>순위</th>\n",
       "      <th>ISBN</th>\n",
       "      <th>도서명</th>\n",
       "      <th>저자명</th>\n",
       "      <th>출판사명</th>\n",
       "      <th>출간일</th>\n",
       "      <th>분야</th>\n",
       "      <th>정가</th>\n",
       "      <th>year</th>\n",
       "    </tr>\n",
       "  </thead>\n",
       "  <tbody>\n",
       "    <tr>\n",
       "      <th>0</th>\n",
       "      <td>1</td>\n",
       "      <td>9788984370067</td>\n",
       "      <td>가시고기</td>\n",
       "      <td>조창인</td>\n",
       "      <td>밝은세상</td>\n",
       "      <td>20000110</td>\n",
       "      <td>소설</td>\n",
       "      <td>\\7,500</td>\n",
       "      <td>NaN</td>\n",
       "    </tr>\n",
       "    <tr>\n",
       "      <th>1</th>\n",
       "      <td>2</td>\n",
       "      <td>9788983920683</td>\n",
       "      <td>해리포터와 마법사의 돌 제1권 1</td>\n",
       "      <td>조앤 K. 롤링</td>\n",
       "      <td>문학수첩</td>\n",
       "      <td>20091005</td>\n",
       "      <td>소설</td>\n",
       "      <td>\\8,000</td>\n",
       "      <td>NaN</td>\n",
       "    </tr>\n",
       "    <tr>\n",
       "      <th>2</th>\n",
       "      <td>3</td>\n",
       "      <td>9788982732362</td>\n",
       "      <td>부자 아빠 가난한 아빠. 1</td>\n",
       "      <td>로버트 기요사키</td>\n",
       "      <td>황금가지</td>\n",
       "      <td>20090302</td>\n",
       "      <td>경제/경영</td>\n",
       "      <td>\\12,000</td>\n",
       "      <td>NaN</td>\n",
       "    </tr>\n",
       "    <tr>\n",
       "      <th>3</th>\n",
       "      <td>4</td>\n",
       "      <td>9788988045930</td>\n",
       "      <td>국화꽃 향기. 1</td>\n",
       "      <td>김하인</td>\n",
       "      <td>생각의나무</td>\n",
       "      <td>20090420</td>\n",
       "      <td>소설</td>\n",
       "      <td>\\8,800</td>\n",
       "      <td>NaN</td>\n",
       "    </tr>\n",
       "    <tr>\n",
       "      <th>4</th>\n",
       "      <td>5</td>\n",
       "      <td>9788986167511</td>\n",
       "      <td>영어공부 절대로 하지마라</td>\n",
       "      <td>정찬용</td>\n",
       "      <td>사회평론</td>\n",
       "      <td>19990719</td>\n",
       "      <td>외국어</td>\n",
       "      <td>\\6,500</td>\n",
       "      <td>NaN</td>\n",
       "    </tr>\n",
       "  </tbody>\n",
       "</table>\n",
       "</div>"
      ],
      "text/plain": [
       "   순위           ISBN                 도서명       저자명   출판사명       출간일     분야  \\\n",
       "0   1  9788984370067                가시고기       조창인   밝은세상  20000110     소설   \n",
       "1   2  9788983920683  해리포터와 마법사의 돌 제1권 1  조앤 K. 롤링   문학수첩  20091005     소설   \n",
       "2   3  9788982732362     부자 아빠 가난한 아빠. 1  로버트 기요사키   황금가지  20090302  경제/경영   \n",
       "3   4  9788988045930           국화꽃 향기. 1       김하인  생각의나무  20090420     소설   \n",
       "4   5  9788986167511       영어공부 절대로 하지마라       정찬용   사회평론  19990719    외국어   \n",
       "\n",
       "        정가  year  \n",
       "0   \\7,500   NaN  \n",
       "1   \\8,000   NaN  \n",
       "2  \\12,000   NaN  \n",
       "3   \\8,800   NaN  \n",
       "4   \\6,500   NaN  "
      ]
     },
     "execution_count": 14,
     "metadata": {},
     "output_type": "execute_result"
    }
   ],
   "source": [
    "# 테이블에 'year' 칼럼 추가하기 \n",
    "B20002018_50['year'] = np.nan\n",
    "B20002018_50.head()"
   ]
  },
  {
   "cell_type": "code",
   "execution_count": 15,
   "metadata": {},
   "outputs": [],
   "source": [
    "column_titles = ['year', '순위', '분야', '도서명', '저자명', '출판사명','출간일','정가', 'ISBN']\n",
    "B20002018_top = B20002018_50.reindex(columns=column_titles)"
   ]
  },
  {
   "cell_type": "code",
   "execution_count": 16,
   "metadata": {},
   "outputs": [
    {
     "data": {
      "text/html": [
       "<div>\n",
       "<style scoped>\n",
       "    .dataframe tbody tr th:only-of-type {\n",
       "        vertical-align: middle;\n",
       "    }\n",
       "\n",
       "    .dataframe tbody tr th {\n",
       "        vertical-align: top;\n",
       "    }\n",
       "\n",
       "    .dataframe thead th {\n",
       "        text-align: right;\n",
       "    }\n",
       "</style>\n",
       "<table border=\"1\" class=\"dataframe\">\n",
       "  <thead>\n",
       "    <tr style=\"text-align: right;\">\n",
       "      <th></th>\n",
       "      <th>year</th>\n",
       "      <th>순위</th>\n",
       "      <th>분야</th>\n",
       "      <th>도서명</th>\n",
       "      <th>저자명</th>\n",
       "      <th>출판사명</th>\n",
       "      <th>출간일</th>\n",
       "      <th>정가</th>\n",
       "      <th>ISBN</th>\n",
       "    </tr>\n",
       "  </thead>\n",
       "  <tbody>\n",
       "    <tr>\n",
       "      <th>0</th>\n",
       "      <td>0.0</td>\n",
       "      <td>1</td>\n",
       "      <td>소설</td>\n",
       "      <td>가시고기</td>\n",
       "      <td>조창인</td>\n",
       "      <td>밝은세상</td>\n",
       "      <td>20000110</td>\n",
       "      <td>\\7,500</td>\n",
       "      <td>9788984370067</td>\n",
       "    </tr>\n",
       "    <tr>\n",
       "      <th>1</th>\n",
       "      <td>0.0</td>\n",
       "      <td>2</td>\n",
       "      <td>소설</td>\n",
       "      <td>해리포터와 마법사의 돌 제1권 1</td>\n",
       "      <td>조앤 K. 롤링</td>\n",
       "      <td>문학수첩</td>\n",
       "      <td>20091005</td>\n",
       "      <td>\\8,000</td>\n",
       "      <td>9788983920683</td>\n",
       "    </tr>\n",
       "    <tr>\n",
       "      <th>2</th>\n",
       "      <td>0.0</td>\n",
       "      <td>3</td>\n",
       "      <td>경제/경영</td>\n",
       "      <td>부자 아빠 가난한 아빠. 1</td>\n",
       "      <td>로버트 기요사키</td>\n",
       "      <td>황금가지</td>\n",
       "      <td>20090302</td>\n",
       "      <td>\\12,000</td>\n",
       "      <td>9788982732362</td>\n",
       "    </tr>\n",
       "  </tbody>\n",
       "</table>\n",
       "</div>"
      ],
      "text/plain": [
       "   year  순위     분야                 도서명       저자명  출판사명       출간일       정가  \\\n",
       "0   0.0   1     소설                가시고기       조창인  밝은세상  20000110   \\7,500   \n",
       "1   0.0   2     소설  해리포터와 마법사의 돌 제1권 1  조앤 K. 롤링  문학수첩  20091005   \\8,000   \n",
       "2   0.0   3  경제/경영     부자 아빠 가난한 아빠. 1  로버트 기요사키  황금가지  20090302  \\12,000   \n",
       "\n",
       "            ISBN  \n",
       "0  9788984370067  \n",
       "1  9788983920683  \n",
       "2  9788982732362  "
      ]
     },
     "execution_count": 16,
     "metadata": {},
     "output_type": "execute_result"
    }
   ],
   "source": [
    "# year 칼럼 채우기\n",
    "B20002018_top['year'] = B20002018_top['year'].fillna(0)\n",
    "B20002018_top.head(3)"
   ]
  },
  {
   "cell_type": "code",
   "execution_count": 17,
   "metadata": {},
   "outputs": [],
   "source": [
    "# 판다스에서 어떻게 해야 할 지 모르겠으니...ㅠ.. 엑셀로 다운로드해 year 값 채워넣고 \n",
    "# csv 파일로 다시 만들어서 데이터 불러오기\n",
    "B20002018_top.to_excel(\"B20002018_excel.xlsx\")\n",
    "data = pd.read_csv('B20002018.csv')"
   ]
  },
  {
   "cell_type": "code",
   "execution_count": 18,
   "metadata": {},
   "outputs": [],
   "source": [
    "data_bs = data.drop(columns=['Unnamed: 0'])"
   ]
  },
  {
   "cell_type": "code",
   "execution_count": 19,
   "metadata": {},
   "outputs": [
    {
     "data": {
      "text/html": [
       "<div>\n",
       "<style scoped>\n",
       "    .dataframe tbody tr th:only-of-type {\n",
       "        vertical-align: middle;\n",
       "    }\n",
       "\n",
       "    .dataframe tbody tr th {\n",
       "        vertical-align: top;\n",
       "    }\n",
       "\n",
       "    .dataframe thead th {\n",
       "        text-align: right;\n",
       "    }\n",
       "</style>\n",
       "<table border=\"1\" class=\"dataframe\">\n",
       "  <thead>\n",
       "    <tr style=\"text-align: right;\">\n",
       "      <th></th>\n",
       "      <th>year</th>\n",
       "      <th>순위</th>\n",
       "      <th>분야</th>\n",
       "      <th>도서명</th>\n",
       "      <th>저자명</th>\n",
       "      <th>출판사명</th>\n",
       "      <th>출간일</th>\n",
       "      <th>정가</th>\n",
       "      <th>ISBN</th>\n",
       "    </tr>\n",
       "  </thead>\n",
       "  <tbody>\n",
       "    <tr>\n",
       "      <th>0</th>\n",
       "      <td>2000</td>\n",
       "      <td>1</td>\n",
       "      <td>소설</td>\n",
       "      <td>가시고기</td>\n",
       "      <td>조창인</td>\n",
       "      <td>밝은세상</td>\n",
       "      <td>20000110</td>\n",
       "      <td>\\7,500</td>\n",
       "      <td>9788984370067</td>\n",
       "    </tr>\n",
       "    <tr>\n",
       "      <th>1</th>\n",
       "      <td>2000</td>\n",
       "      <td>2</td>\n",
       "      <td>소설</td>\n",
       "      <td>해리포터와 마법사의 돌 제1권 1</td>\n",
       "      <td>조앤 K. 롤링</td>\n",
       "      <td>문학수첩</td>\n",
       "      <td>20091005</td>\n",
       "      <td>\\8,000</td>\n",
       "      <td>9788983920683</td>\n",
       "    </tr>\n",
       "    <tr>\n",
       "      <th>2</th>\n",
       "      <td>2000</td>\n",
       "      <td>3</td>\n",
       "      <td>경제/경영</td>\n",
       "      <td>부자 아빠 가난한 아빠. 1</td>\n",
       "      <td>로버트 기요사키</td>\n",
       "      <td>황금가지</td>\n",
       "      <td>20090302</td>\n",
       "      <td>\\12,000</td>\n",
       "      <td>9788982732362</td>\n",
       "    </tr>\n",
       "    <tr>\n",
       "      <th>3</th>\n",
       "      <td>2000</td>\n",
       "      <td>4</td>\n",
       "      <td>소설</td>\n",
       "      <td>국화꽃 향기. 1</td>\n",
       "      <td>김하인</td>\n",
       "      <td>생각의나무</td>\n",
       "      <td>20090420</td>\n",
       "      <td>\\8,800</td>\n",
       "      <td>9788988045930</td>\n",
       "    </tr>\n",
       "    <tr>\n",
       "      <th>4</th>\n",
       "      <td>2000</td>\n",
       "      <td>5</td>\n",
       "      <td>외국어</td>\n",
       "      <td>영어공부 절대로 하지마라</td>\n",
       "      <td>정찬용</td>\n",
       "      <td>사회평론</td>\n",
       "      <td>19990719</td>\n",
       "      <td>\\6,500</td>\n",
       "      <td>9788986167511</td>\n",
       "    </tr>\n",
       "  </tbody>\n",
       "</table>\n",
       "</div>"
      ],
      "text/plain": [
       "   year  순위     분야                 도서명       저자명   출판사명       출간일       정가  \\\n",
       "0  2000   1     소설                가시고기       조창인   밝은세상  20000110   \\7,500   \n",
       "1  2000   2     소설  해리포터와 마법사의 돌 제1권 1  조앤 K. 롤링   문학수첩  20091005   \\8,000   \n",
       "2  2000   3  경제/경영     부자 아빠 가난한 아빠. 1  로버트 기요사키   황금가지  20090302  \\12,000   \n",
       "3  2000   4     소설           국화꽃 향기. 1       김하인  생각의나무  20090420   \\8,800   \n",
       "4  2000   5    외국어       영어공부 절대로 하지마라       정찬용   사회평론  19990719   \\6,500   \n",
       "\n",
       "            ISBN  \n",
       "0  9788984370067  \n",
       "1  9788983920683  \n",
       "2  9788982732362  \n",
       "3  9788988045930  \n",
       "4  9788986167511  "
      ]
     },
     "execution_count": 19,
     "metadata": {},
     "output_type": "execute_result"
    }
   ],
   "source": [
    "data_bs.head()"
   ]
  },
  {
   "cell_type": "code",
   "execution_count": 22,
   "metadata": {},
   "outputs": [
    {
     "data": {
      "text/plain": [
       "0      9788984370067\n",
       "1      9788983920683\n",
       "2      9788982732362\n",
       "3      9788988045930\n",
       "4      9788986167511\n",
       "5      9788983920706\n",
       "6      9788980103034\n",
       "7      9788980381319\n",
       "8      9788982640919\n",
       "9      9788970632070\n",
       "10     9788970631578\n",
       "11     9788970120157\n",
       "12     9788934904700\n",
       "13     9788985599214\n",
       "14     9788987724898\n",
       "15     9788931413298\n",
       "16     9788972881216\n",
       "17     9788908041318\n",
       "18     9788939203822\n",
       "19     9788970571485\n",
       "20     9788974561383\n",
       "21     9788978910972\n",
       "22     9788979440997\n",
       "23     9788901029351\n",
       "24     9788986167658\n",
       "25     9788985599221\n",
       "26     9788936806156\n",
       "27     9788932011523\n",
       "28     9788931413144\n",
       "29     9788975600456\n",
       "           ...      \n",
       "920      9,78898E+12\n",
       "921      9,78898E+12\n",
       "922      9,78899E+12\n",
       "923      9,78897E+12\n",
       "924      9,78896E+12\n",
       "925      9,78893E+12\n",
       "926      9,78897E+12\n",
       "927      9,78897E+12\n",
       "928      9,78898E+12\n",
       "929      9,78898E+12\n",
       "930      9,78897E+12\n",
       "931      9,78896E+12\n",
       "932      9,78896E+12\n",
       "933      9,78898E+12\n",
       "934      9,78899E+12\n",
       "935      9,78895E+12\n",
       "936      9,78898E+12\n",
       "937      9,78897E+12\n",
       "938       9,7889E+12\n",
       "939      9,78897E+12\n",
       "940      9,78895E+12\n",
       "941      9,78896E+12\n",
       "942      9,78899E+12\n",
       "943      9,78893E+12\n",
       "944      9,78893E+12\n",
       "945      9,78898E+12\n",
       "946      9,78897E+12\n",
       "947      9,78899E+12\n",
       "948       9,7889E+12\n",
       "949      9,78898E+12\n",
       "Name: ISBN, Length: 950, dtype: object"
      ]
     },
     "execution_count": 22,
     "metadata": {},
     "output_type": "execute_result"
    }
   ],
   "source": [
    "data_bs['ISBN'].astype(str)"
   ]
  },
  {
   "cell_type": "markdown",
   "metadata": {},
   "source": [
    "### 2000년 ~ 2018년 상위 50위 베스트셀러 데이터프레임 완성!\n",
    "이제 본격적으로 찾고 싶은 값들을 찾아보자 "
   ]
  },
  {
   "cell_type": "code",
   "execution_count": 20,
   "metadata": {},
   "outputs": [
    {
     "data": {
      "text/plain": [
       "array(['소설', '경제/경영', '외국어', '자기계발', '시/에세이', '인문', '어린이(초등)', '컴퓨터/IT',\n",
       "       '정치/사회', '역사/문화', '여행', '유아(0~7세)', '종교', '건강', '만화', '중/고등참고서',\n",
       "       '과학', '요리', '가정/육아', '예술/대중문화'], dtype=object)"
      ]
     },
     "execution_count": 20,
     "metadata": {},
     "output_type": "execute_result"
    }
   ],
   "source": [
    "# Q : 분야에는 몇 종류가 있을까? A : 20개 분야\n",
    "data_bs['분야'].unique()"
   ]
  },
  {
   "cell_type": "code",
   "execution_count": 139,
   "metadata": {},
   "outputs": [],
   "source": [
    "# 어떤 분야 책들이 많이 읽혔을까? \n",
    "genre = pd.DataFrame(data_bs['분야'].value_counts())\n",
    "a = genre.reset_index().rename(columns={'index':'genre', '분야':'count'})"
   ]
  },
  {
   "cell_type": "code",
   "execution_count": 141,
   "metadata": {},
   "outputs": [
    {
     "data": {
      "text/html": [
       "<div>\n",
       "<style scoped>\n",
       "    .dataframe tbody tr th:only-of-type {\n",
       "        vertical-align: middle;\n",
       "    }\n",
       "\n",
       "    .dataframe tbody tr th {\n",
       "        vertical-align: top;\n",
       "    }\n",
       "\n",
       "    .dataframe thead th {\n",
       "        text-align: right;\n",
       "    }\n",
       "</style>\n",
       "<table border=\"1\" class=\"dataframe\">\n",
       "  <thead>\n",
       "    <tr style=\"text-align: right;\">\n",
       "      <th></th>\n",
       "      <th>genre</th>\n",
       "      <th>count</th>\n",
       "    </tr>\n",
       "  </thead>\n",
       "  <tbody>\n",
       "    <tr>\n",
       "      <th>0</th>\n",
       "      <td>소설</td>\n",
       "      <td>358</td>\n",
       "    </tr>\n",
       "    <tr>\n",
       "      <th>1</th>\n",
       "      <td>자기계발</td>\n",
       "      <td>141</td>\n",
       "    </tr>\n",
       "    <tr>\n",
       "      <th>2</th>\n",
       "      <td>외국어</td>\n",
       "      <td>121</td>\n",
       "    </tr>\n",
       "    <tr>\n",
       "      <th>3</th>\n",
       "      <td>시/에세이</td>\n",
       "      <td>114</td>\n",
       "    </tr>\n",
       "    <tr>\n",
       "      <th>4</th>\n",
       "      <td>경제/경영</td>\n",
       "      <td>59</td>\n",
       "    </tr>\n",
       "  </tbody>\n",
       "</table>\n",
       "</div>"
      ],
      "text/plain": [
       "   genre  count\n",
       "0     소설    358\n",
       "1   자기계발    141\n",
       "2    외국어    121\n",
       "3  시/에세이    114\n",
       "4  경제/경영     59"
      ]
     },
     "execution_count": 141,
     "metadata": {},
     "output_type": "execute_result"
    }
   ],
   "source": [
    "a.head()"
   ]
  },
  {
   "cell_type": "code",
   "execution_count": 143,
   "metadata": {},
   "outputs": [],
   "source": [
    "genre_df = a.to_excel(\"genre_df.xlsx\")"
   ]
  },
  {
   "cell_type": "code",
   "execution_count": 91,
   "metadata": {},
   "outputs": [
    {
     "data": {
      "text/html": [
       "<div>\n",
       "<style scoped>\n",
       "    .dataframe tbody tr th:only-of-type {\n",
       "        vertical-align: middle;\n",
       "    }\n",
       "\n",
       "    .dataframe tbody tr th {\n",
       "        vertical-align: top;\n",
       "    }\n",
       "\n",
       "    .dataframe thead th {\n",
       "        text-align: right;\n",
       "    }\n",
       "</style>\n",
       "<table border=\"1\" class=\"dataframe\">\n",
       "  <thead>\n",
       "    <tr style=\"text-align: right;\">\n",
       "      <th></th>\n",
       "      <th>index</th>\n",
       "      <th>분야</th>\n",
       "    </tr>\n",
       "  </thead>\n",
       "  <tbody>\n",
       "    <tr>\n",
       "      <th>0</th>\n",
       "      <td>소설</td>\n",
       "      <td>16</td>\n",
       "    </tr>\n",
       "    <tr>\n",
       "      <th>1</th>\n",
       "      <td>시/에세이</td>\n",
       "      <td>12</td>\n",
       "    </tr>\n",
       "    <tr>\n",
       "      <th>2</th>\n",
       "      <td>경제/경영</td>\n",
       "      <td>5</td>\n",
       "    </tr>\n",
       "    <tr>\n",
       "      <th>3</th>\n",
       "      <td>자기계발</td>\n",
       "      <td>5</td>\n",
       "    </tr>\n",
       "    <tr>\n",
       "      <th>4</th>\n",
       "      <td>외국어</td>\n",
       "      <td>3</td>\n",
       "    </tr>\n",
       "    <tr>\n",
       "      <th>5</th>\n",
       "      <td>어린이(초등)</td>\n",
       "      <td>3</td>\n",
       "    </tr>\n",
       "    <tr>\n",
       "      <th>6</th>\n",
       "      <td>인문</td>\n",
       "      <td>2</td>\n",
       "    </tr>\n",
       "    <tr>\n",
       "      <th>7</th>\n",
       "      <td>컴퓨터/IT</td>\n",
       "      <td>2</td>\n",
       "    </tr>\n",
       "    <tr>\n",
       "      <th>8</th>\n",
       "      <td>역사/문화</td>\n",
       "      <td>1</td>\n",
       "    </tr>\n",
       "    <tr>\n",
       "      <th>9</th>\n",
       "      <td>정치/사회</td>\n",
       "      <td>1</td>\n",
       "    </tr>\n",
       "  </tbody>\n",
       "</table>\n",
       "</div>"
      ],
      "text/plain": [
       "     index  분야\n",
       "0       소설  16\n",
       "1    시/에세이  12\n",
       "2    경제/경영   5\n",
       "3     자기계발   5\n",
       "4      외국어   3\n",
       "5  어린이(초등)   3\n",
       "6       인문   2\n",
       "7   컴퓨터/IT   2\n",
       "8    역사/문화   1\n",
       "9    정치/사회   1"
      ]
     },
     "execution_count": 91,
     "metadata": {},
     "output_type": "execute_result"
    }
   ],
   "source": [
    "pd.DataFrame(B2000['분야'].value_counts()).rename(columns={\"index\": \"genre\", \"B\": \"c\"})"
   ]
  },
  {
   "cell_type": "markdown",
   "metadata": {},
   "source": [
    "### 어떤 분야 책들이 많이 읽혔을까? 데이터 시각화 사이트 flourish에서 그래프 그림 \n",
    "###### 링크 : https://public.flourish.studio/visualisation/997773/"
   ]
  },
  {
   "cell_type": "code",
   "execution_count": 155,
   "metadata": {},
   "outputs": [
    {
     "data": {
      "text/plain": [
       "설득의 심리학. 1                    16\n",
       "모리와 함께한 화요일(양장본 HardCover)    16\n",
       "목적이 이끄는 삶                     15\n",
       "다 빈치 코드 1                     15\n",
       "연금술사                          15\n",
       "dtype: int64"
      ]
     },
     "execution_count": 155,
     "metadata": {},
     "output_type": "execute_result"
    }
   ],
   "source": [
    "# 가장 여러번 베스트셀러에 오른 책은? 즉 스테디셀러는? 총 16번 베스트셀러에 든 < 설득의 심리학 >이 1위 \n",
    "most_popular_book = pd.value_counts(data_bs['도서명'].values, ascending=False)\n",
    "most_popular_book.head()"
   ]
  },
  {
   "cell_type": "markdown",
   "metadata": {},
   "source": [
    "### 어떤 저자가 제일 인기가 많았을까?"
   ]
  },
  {
   "cell_type": "code",
   "execution_count": 157,
   "metadata": {},
   "outputs": [
    {
     "data": {
      "text/plain": [
       "David Cho    54\n",
       "파울로 코엘료      43\n",
       "미치 앨봄        29\n",
       "댄 브라운        28\n",
       "무라카미 하루키     19\n",
       "dtype: int64"
      ]
     },
     "execution_count": 157,
     "metadata": {},
     "output_type": "execute_result"
    }
   ],
   "source": [
    "# 베스트셀러에 가장 많이 오른 저자는? 총 54번 오른 David Cho\n",
    "most_popular_author = pd.value_counts(data_bs['저자명'].values, ascending=False)\n",
    "most_popular_author.head(5)"
   ]
  },
  {
   "cell_type": "code",
   "execution_count": 164,
   "metadata": {},
   "outputs": [
    {
     "data": {
      "text/html": [
       "<div>\n",
       "<style scoped>\n",
       "    .dataframe tbody tr th:only-of-type {\n",
       "        vertical-align: middle;\n",
       "    }\n",
       "\n",
       "    .dataframe tbody tr th {\n",
       "        vertical-align: top;\n",
       "    }\n",
       "\n",
       "    .dataframe thead th {\n",
       "        text-align: right;\n",
       "    }\n",
       "</style>\n",
       "<table border=\"1\" class=\"dataframe\">\n",
       "  <thead>\n",
       "    <tr style=\"text-align: right;\">\n",
       "      <th></th>\n",
       "      <th>year</th>\n",
       "      <th>순위</th>\n",
       "      <th>분야</th>\n",
       "      <th>도서명</th>\n",
       "      <th>저자명</th>\n",
       "      <th>출판사명</th>\n",
       "      <th>출간일</th>\n",
       "      <th>정가</th>\n",
       "      <th>ISBN</th>\n",
       "    </tr>\n",
       "  </thead>\n",
       "  <tbody>\n",
       "    <tr>\n",
       "      <th>256</th>\n",
       "      <td>2005</td>\n",
       "      <td>7</td>\n",
       "      <td>외국어</td>\n",
       "      <td>해커스 토익 READING</td>\n",
       "      <td>David Cho</td>\n",
       "      <td>해커스어학연구소</td>\n",
       "      <td>20050102</td>\n",
       "      <td>\\18,800</td>\n",
       "      <td>9,78899E+12</td>\n",
       "    </tr>\n",
       "    <tr>\n",
       "      <th>265</th>\n",
       "      <td>2005</td>\n",
       "      <td>16</td>\n",
       "      <td>외국어</td>\n",
       "      <td>해커스 토익(CD1장포함)</td>\n",
       "      <td>David Cho</td>\n",
       "      <td>해커스어학연구소</td>\n",
       "      <td>20041202</td>\n",
       "      <td>\\18,900</td>\n",
       "      <td>9,78899E+12</td>\n",
       "    </tr>\n",
       "    <tr>\n",
       "      <th>284</th>\n",
       "      <td>2005</td>\n",
       "      <td>35</td>\n",
       "      <td>외국어</td>\n",
       "      <td>Hackers TOEFL Vocabulary (2005)(CBT/PBT)(4판)</td>\n",
       "      <td>David Cho</td>\n",
       "      <td>해커스어학연구소</td>\n",
       "      <td>20050314</td>\n",
       "      <td>\\15,900</td>\n",
       "      <td>9,78899E+12</td>\n",
       "    </tr>\n",
       "    <tr>\n",
       "      <th>292</th>\n",
       "      <td>2005</td>\n",
       "      <td>43</td>\n",
       "      <td>외국어</td>\n",
       "      <td>해커스 그래머 스타트(Hackers Grammar Start)</td>\n",
       "      <td>David Cho</td>\n",
       "      <td>해커스어학연구소</td>\n",
       "      <td>20040107</td>\n",
       "      <td>\\16,900</td>\n",
       "      <td>9,78899E+12</td>\n",
       "    </tr>\n",
       "    <tr>\n",
       "      <th>303</th>\n",
       "      <td>2006</td>\n",
       "      <td>4</td>\n",
       "      <td>외국어</td>\n",
       "      <td>해커스 토익 Reading(해설집포함)</td>\n",
       "      <td>David Cho</td>\n",
       "      <td>해커스어학연구소</td>\n",
       "      <td>20080315</td>\n",
       "      <td>\\18,800</td>\n",
       "      <td>9,78899E+12</td>\n",
       "    </tr>\n",
       "  </tbody>\n",
       "</table>\n",
       "</div>"
      ],
      "text/plain": [
       "     year  순위   분야                                           도서명        저자명  \\\n",
       "256  2005   7  외국어                                해커스 토익 READING  David Cho   \n",
       "265  2005  16  외국어                                해커스 토익(CD1장포함)  David Cho   \n",
       "284  2005  35  외국어  Hackers TOEFL Vocabulary (2005)(CBT/PBT)(4판)  David Cho   \n",
       "292  2005  43  외국어            해커스 그래머 스타트(Hackers Grammar Start)  David Cho   \n",
       "303  2006   4  외국어                         해커스 토익 Reading(해설집포함)  David Cho   \n",
       "\n",
       "         출판사명       출간일       정가         ISBN  \n",
       "256  해커스어학연구소  20050102  \\18,800  9,78899E+12  \n",
       "265  해커스어학연구소  20041202  \\18,900  9,78899E+12  \n",
       "284  해커스어학연구소  20050314  \\15,900  9,78899E+12  \n",
       "292  해커스어학연구소  20040107  \\16,900  9,78899E+12  \n",
       "303  해커스어학연구소  20080315  \\18,800  9,78899E+12  "
      ]
     },
     "execution_count": 164,
     "metadata": {},
     "output_type": "execute_result"
    }
   ],
   "source": [
    "# David Cho가 쓴 책은? \n",
    "data_bs[data_bs['저자명'].isin(['David Cho'])].head()"
   ]
  },
  {
   "cell_type": "markdown",
   "metadata": {},
   "source": [
    "아아 David Cho는 토익 책 저자였다. 이제 이해가 간다! \n",
    "most_popurlar_author 상위 5위에 든 다른 저자들의 책들도 찾아보자."
   ]
  },
  {
   "cell_type": "code",
   "execution_count": 172,
   "metadata": {},
   "outputs": [
    {
     "data": {
      "text/plain": [
       "array(['연금술사', '11분(양장본 HardCover)', '베로니카 죽기로 결심하다(양장본 HardCover)',\n",
       "       '오 자히르(양장본 HardCover)'], dtype=object)"
      ]
     },
     "execution_count": 172,
     "metadata": {},
     "output_type": "execute_result"
    }
   ],
   "source": [
    "파울로_코엘료 = data_bs[data_bs['저자명'].isin(['파울로 코엘료'])]\n",
    "파울로_코엘료['도서명'].unique()"
   ]
  },
  {
   "cell_type": "code",
   "execution_count": 176,
   "metadata": {},
   "outputs": [
    {
     "data": {
      "text/plain": [
       "array(['모리와 함께한 화요일(양장본 HardCover)', '천국에서 만난 다섯사람'], dtype=object)"
      ]
     },
     "execution_count": 176,
     "metadata": {},
     "output_type": "execute_result"
    }
   ],
   "source": [
    "미치_앨봄 = data_bs[data_bs['저자명'].isin(['미치 앨봄'])]\n",
    "미치_앨봄['도서명'].unique()"
   ]
  },
  {
   "cell_type": "code",
   "execution_count": 177,
   "metadata": {},
   "outputs": [
    {
     "data": {
      "text/plain": [
       "array(['다 빈치 코드 1', '천사와 악마 1'], dtype=object)"
      ]
     },
     "execution_count": 177,
     "metadata": {},
     "output_type": "execute_result"
    }
   ],
   "source": [
    "댄_브라운 = data_bs[data_bs['저자명'].isin(['댄 브라운'])]\n",
    "댄_브라운['도서명'].unique()"
   ]
  },
  {
   "cell_type": "code",
   "execution_count": 178,
   "metadata": {},
   "outputs": [
    {
     "data": {
      "text/plain": [
       "array(['상실의 시대:원제 노르웨이의 숲', '상실의 시대(원제: 노르웨이의 숲)(3판)', '해변의 카프카(상)',\n",
       "       '어둠의 저편'], dtype=object)"
      ]
     },
     "execution_count": 178,
     "metadata": {},
     "output_type": "execute_result"
    }
   ],
   "source": [
    "무라카미_하루키 = data_bs[data_bs['저자명'].isin(['무라카미 하루키'])]\n",
    "무라카미_하루키['도서명'].unique()"
   ]
  },
  {
   "cell_type": "markdown",
   "metadata": {},
   "source": [
    "한국 저자는 한 명도 없네... most_popular_author 상위 20개 데이터를 보자 "
   ]
  },
  {
   "cell_type": "code",
   "execution_count": 182,
   "metadata": {},
   "outputs": [
    {
     "data": {
      "text/plain": [
       "David Cho    54\n",
       "파울로 코엘료      43\n",
       "미치 앨봄        29\n",
       "댄 브라운        28\n",
       "무라카미 하루키     19\n",
       "이익훈          19\n",
       "스펜서 존슨       19\n",
       "오혜정          17\n",
       "류시화          17\n",
       "조앤 K. 롤링     17\n",
       "공지영          17\n",
       "로버트 치알디니     16\n",
       "박완서          16\n",
       "한비야          16\n",
       "앤디 앤드루스      15\n",
       "스튜디오 시리얼     15\n",
       "이원복          15\n",
       "릭 워렌         15\n",
       "카타야마 쿄이치     14\n",
       "이승헌          14\n",
       "dtype: int64"
      ]
     },
     "execution_count": 182,
     "metadata": {},
     "output_type": "execute_result"
    }
   ],
   "source": [
    "most_popular_author.head(20)"
   ]
  },
  {
   "cell_type": "markdown",
   "metadata": {},
   "source": [
    "한국인 중 most_popular_author 1위는 이익훈, 공동 2위는 오혜정, 류시화, 공지영. 이 사람들은 어떤 책으로 베스트셀러 작가가 됐지?   "
   ]
  },
  {
   "cell_type": "code",
   "execution_count": 183,
   "metadata": {},
   "outputs": [
    {
     "data": {
      "text/plain": [
       "array(['이익훈 EYE OF THE TOEIC', '이익훈 EAR OF THE TOEIC',\n",
       "       '이익훈 EYE OF THE TOEIC (R/C) (개정판) (특별부록 CD 포함)'], dtype=object)"
      ]
     },
     "execution_count": 183,
     "metadata": {},
     "output_type": "execute_result"
    }
   ],
   "source": [
    "이익훈 = data_bs[data_bs['저자명'].isin(['이익훈'])]\n",
    "이익훈['도서명'].unique()"
   ]
  },
  {
   "cell_type": "markdown",
   "metadata": {},
   "source": [
    "이익훈 토익책 썼구나... ㅎㅎ"
   ]
  },
  {
   "cell_type": "code",
   "execution_count": 187,
   "metadata": {},
   "outputs": [
    {
     "data": {
      "text/plain": [
       "array(['토마토:토익점수마구올려주는토익(READING)', '토마토:토익점수마구올려주는토익(LISTENING)',\n",
       "       '토마토:토익점수마구올려주는토익(READING) (2/E)'], dtype=object)"
      ]
     },
     "execution_count": 187,
     "metadata": {},
     "output_type": "execute_result"
    }
   ],
   "source": [
    "오혜정 = data_bs[data_bs['저자명'].isin(['오혜정'])]\n",
    "오혜정['도서명'].unique()"
   ]
  },
  {
   "cell_type": "markdown",
   "metadata": {},
   "source": [
    "오혜정도 토익책 썼구나 ㅎㅎㅎㅎ 그렇다면 류시화, 공지영의 베스트셀러는 뭘까? "
   ]
  },
  {
   "cell_type": "code",
   "execution_count": 188,
   "metadata": {},
   "outputs": [
    {
     "data": {
      "text/plain": [
       "array(['지금 알고 있는 걸 그때도 알았더라면(잠언시집)', '사랑하라 한번도 상처받지 않은 것처럼'], dtype=object)"
      ]
     },
     "execution_count": 188,
     "metadata": {},
     "output_type": "execute_result"
    }
   ],
   "source": [
    "류시화 = data_bs[data_bs['저자명'].isin(['류시화'])]\n",
    "류시화['도서명'].unique()"
   ]
  },
  {
   "cell_type": "code",
   "execution_count": 189,
   "metadata": {},
   "outputs": [
    {
     "data": {
      "text/plain": [
       "array(['봉순이 언니', '우리들의 행복한 시간', '사랑 후에 오는 것들(공지영)(중판)(양장본 HardCover)',\n",
       "       '빗방울처럼 나는 혼자였다(양장본 HardCover)'], dtype=object)"
      ]
     },
     "execution_count": 189,
     "metadata": {},
     "output_type": "execute_result"
    }
   ],
   "source": [
    "공지영 = data_bs[data_bs['저자명'].isin(['공지영'])]\n",
    "공지영['도서명'].unique()"
   ]
  },
  {
   "cell_type": "code",
   "execution_count": 190,
   "metadata": {},
   "outputs": [
    {
     "data": {
      "text/plain": [
       "array(['새 먼나라 이웃나라 7:일본 1(일본.일본인편)',\n",
       "       '21세기 먼나라 이웃나라 10 (미국 1:미국인 편) (올컬러판)',\n",
       "       '21세기 먼나라 이웃나라 12 (미국 3:대통령 편) (올컬러판)'], dtype=object)"
      ]
     },
     "execution_count": 190,
     "metadata": {},
     "output_type": "execute_result"
    }
   ],
   "source": [
    "이원복 = data_bs[data_bs['저자명'].isin(['이원복'])]\n",
    "이원복['도서명'].unique()"
   ]
  },
  {
   "cell_type": "code",
   "execution_count": 191,
   "metadata": {},
   "outputs": [
    {
     "data": {
      "text/plain": [
       "array(['힐링 소사이어티', '아이 안에 숨어 있는 두뇌의 힘을 키워라'], dtype=object)"
      ]
     },
     "execution_count": 191,
     "metadata": {},
     "output_type": "execute_result"
    }
   ],
   "source": [
    "이승헌 = data_bs[data_bs['저자명'].isin(['이승헌'])]\n",
    "이승헌['도서명'].unique()"
   ]
  },
  {
   "cell_type": "markdown",
   "metadata": {},
   "source": [
    "컴퓨터/IT 분야에서 나온 베스트셀러는 딱 두 권, 이 두 권은 어떤 책들일까?"
   ]
  },
  {
   "cell_type": "code",
   "execution_count": 198,
   "metadata": {},
   "outputs": [
    {
     "data": {
      "text/html": [
       "<div>\n",
       "<style scoped>\n",
       "    .dataframe tbody tr th:only-of-type {\n",
       "        vertical-align: middle;\n",
       "    }\n",
       "\n",
       "    .dataframe tbody tr th {\n",
       "        vertical-align: top;\n",
       "    }\n",
       "\n",
       "    .dataframe thead th {\n",
       "        text-align: right;\n",
       "    }\n",
       "</style>\n",
       "<table border=\"1\" class=\"dataframe\">\n",
       "  <thead>\n",
       "    <tr style=\"text-align: right;\">\n",
       "      <th></th>\n",
       "      <th>year</th>\n",
       "      <th>순위</th>\n",
       "      <th>분야</th>\n",
       "      <th>도서명</th>\n",
       "      <th>저자명</th>\n",
       "      <th>출판사명</th>\n",
       "      <th>출간일</th>\n",
       "      <th>정가</th>\n",
       "      <th>ISBN</th>\n",
       "    </tr>\n",
       "  </thead>\n",
       "  <tbody>\n",
       "    <tr>\n",
       "      <th>15</th>\n",
       "      <td>2000</td>\n",
       "      <td>16</td>\n",
       "      <td>컴퓨터/IT</td>\n",
       "      <td>플래시 4 애니메이션 홈페이지 만들기(할수있다)(S/W포함)</td>\n",
       "      <td>장일호</td>\n",
       "      <td>영진닷컴</td>\n",
       "      <td>20000103</td>\n",
       "      <td>\\23,000</td>\n",
       "      <td>9788931413298</td>\n",
       "    </tr>\n",
       "    <tr>\n",
       "      <th>29</th>\n",
       "      <td>2000</td>\n",
       "      <td>30</td>\n",
       "      <td>컴퓨터/IT</td>\n",
       "      <td>인터넷 무작정 따라하기(S/W포함)</td>\n",
       "      <td>유해룡</td>\n",
       "      <td>길벗</td>\n",
       "      <td>19991104</td>\n",
       "      <td>\\16,500</td>\n",
       "      <td>9788975600456</td>\n",
       "    </tr>\n",
       "  </tbody>\n",
       "</table>\n",
       "</div>"
      ],
      "text/plain": [
       "    year  순위      분야                                도서명  저자명  출판사명       출간일  \\\n",
       "15  2000  16  컴퓨터/IT  플래시 4 애니메이션 홈페이지 만들기(할수있다)(S/W포함)  장일호  영진닷컴  20000103   \n",
       "29  2000  30  컴퓨터/IT                인터넷 무작정 따라하기(S/W포함)  유해룡    길벗  19991104   \n",
       "\n",
       "         정가           ISBN  \n",
       "15  \\23,000  9788931413298  \n",
       "29  \\16,500  9788975600456  "
      ]
     },
     "execution_count": 198,
     "metadata": {},
     "output_type": "execute_result"
    }
   ],
   "source": [
    "data_bs[data_bs['분야'].isin(['컴퓨터/IT'])]"
   ]
  },
  {
   "cell_type": "markdown",
   "metadata": {},
   "source": [
    "흥미롭게도 두 권 모두 2000년 베스트셀러네"
   ]
  },
  {
   "cell_type": "markdown",
   "metadata": {},
   "source": [
    "### 어떤 출판사가 가장 많은 베스트셀러를 냈을까?  "
   ]
  },
  {
   "cell_type": "code",
   "execution_count": 202,
   "metadata": {},
   "outputs": [
    {
     "data": {
      "text/plain": [
       "랜덤하우스코리아    57\n",
       "해커스어학연구소    54\n",
       "문학동네        47\n",
       "세종서적        44\n",
       "김영사         35\n",
       "dtype: int64"
      ]
     },
     "execution_count": 202,
     "metadata": {},
     "output_type": "execute_result"
    }
   ],
   "source": [
    "most_popular_publisher = pd.value_counts(data_bs['출판사명'].values, ascending=False)\n",
    "most_popular_publisher.head()"
   ]
  },
  {
   "cell_type": "code",
   "execution_count": 204,
   "metadata": {},
   "outputs": [
    {
     "data": {
      "text/plain": [
       "array(['선물', '따뜻한 카리스마', '여자의 모든 인생은 20대에 결정된다', '그 남자 그 여자 2',\n",
       "       '웃지마 나 영어책이야', '그 남자 그 여자 3', '멈추지 않는 도전'], dtype=object)"
      ]
     },
     "execution_count": 204,
     "metadata": {},
     "output_type": "execute_result"
    }
   ],
   "source": [
    "랜덤하우스코리아 = data_bs[data_bs['출판사명'].isin(['랜덤하우스코리아'])]\n",
    "랜덤하우스코리아['도서명'].unique()"
   ]
  },
  {
   "cell_type": "code",
   "execution_count": 205,
   "metadata": {},
   "outputs": [
    {
     "data": {
      "text/plain": [
       "array(['철도원', '바이올렛', '모랫말 아이들(어른을 위한 동화)', '연금술사', '11분(양장본 HardCover)',\n",
       "       '베로니카 죽기로 결심하다(양장본 HardCover)', '오 자히르(양장본 HardCover)',\n",
       "       '악마는 프라다를 입는다 1'], dtype=object)"
      ]
     },
     "execution_count": 205,
     "metadata": {},
     "output_type": "execute_result"
    }
   ],
   "source": [
    "문학동네 = data_bs[data_bs['출판사명'].isin(['문학동네'])]\n",
    "문학동네['도서명'].unique()"
   ]
  },
  {
   "cell_type": "code",
   "execution_count": 206,
   "metadata": {},
   "outputs": [
    {
     "data": {
      "text/plain": [
       "array(['모리와 함께한 화요일(양장본 HardCover)', '폰더씨의 위대한 하루', '천국에서 만난 다섯사람'],\n",
       "      dtype=object)"
      ]
     },
     "execution_count": 206,
     "metadata": {},
     "output_type": "execute_result"
    }
   ],
   "source": [
    "세종서적 = data_bs[data_bs['출판사명'].isin(['세종서적'])]\n",
    "세종서적['도서명'].unique()"
   ]
  },
  {
   "cell_type": "code",
   "execution_count": 216,
   "metadata": {},
   "outputs": [
    {
     "data": {
      "text/html": [
       "<div>\n",
       "<style scoped>\n",
       "    .dataframe tbody tr th:only-of-type {\n",
       "        vertical-align: middle;\n",
       "    }\n",
       "\n",
       "    .dataframe tbody tr th {\n",
       "        vertical-align: top;\n",
       "    }\n",
       "\n",
       "    .dataframe thead th {\n",
       "        text-align: right;\n",
       "    }\n",
       "</style>\n",
       "<table border=\"1\" class=\"dataframe\">\n",
       "  <thead>\n",
       "    <tr style=\"text-align: right;\">\n",
       "      <th></th>\n",
       "      <th>순위</th>\n",
       "      <th>ISBN</th>\n",
       "      <th>도서명</th>\n",
       "      <th>저자명</th>\n",
       "      <th>출판사명</th>\n",
       "      <th>출간일</th>\n",
       "      <th>분야</th>\n",
       "      <th>정가</th>\n",
       "    </tr>\n",
       "  </thead>\n",
       "  <tbody>\n",
       "    <tr>\n",
       "      <th>0</th>\n",
       "      <td>1</td>\n",
       "      <td>9,78899E+12</td>\n",
       "      <td>살아 있는 동안 꼭 해야 할 49가지</td>\n",
       "      <td>탄줘잉</td>\n",
       "      <td>위즈덤하우스</td>\n",
       "      <td>20041220</td>\n",
       "      <td>자기계발</td>\n",
       "      <td>\\8,800</td>\n",
       "    </tr>\n",
       "    <tr>\n",
       "      <th>1</th>\n",
       "      <td>2</td>\n",
       "      <td>9,78896E+12</td>\n",
       "      <td>다 빈치 코드 1</td>\n",
       "      <td>댄 브라운</td>\n",
       "      <td>북스캔</td>\n",
       "      <td>20070611</td>\n",
       "      <td>소설</td>\n",
       "      <td>\\7,800</td>\n",
       "    </tr>\n",
       "    <tr>\n",
       "      <th>2</th>\n",
       "      <td>3</td>\n",
       "      <td>9,78895E+12</td>\n",
       "      <td>모모(비룡소 걸작선 13)</td>\n",
       "      <td>미하엘 엔데</td>\n",
       "      <td>비룡소</td>\n",
       "      <td>20091020</td>\n",
       "      <td>소설</td>\n",
       "      <td>\\12,000</td>\n",
       "    </tr>\n",
       "    <tr>\n",
       "      <th>3</th>\n",
       "      <td>4</td>\n",
       "      <td>9,78898E+12</td>\n",
       "      <td>연금술사</td>\n",
       "      <td>파울로 코엘료</td>\n",
       "      <td>문학동네</td>\n",
       "      <td>20181205</td>\n",
       "      <td>소설</td>\n",
       "      <td>\\9,500</td>\n",
       "    </tr>\n",
       "    <tr>\n",
       "      <th>4</th>\n",
       "      <td>5</td>\n",
       "      <td>9,78897E+12</td>\n",
       "      <td>블루오션전략(양장본 HardCover)</td>\n",
       "      <td>김위찬</td>\n",
       "      <td>교보문고</td>\n",
       "      <td>20050407</td>\n",
       "      <td>경제/경영</td>\n",
       "      <td>\\17,000</td>\n",
       "    </tr>\n",
       "    <tr>\n",
       "      <th>5</th>\n",
       "      <td>6</td>\n",
       "      <td>9,789E+12</td>\n",
       "      <td>사랑하라 한번도 상처받지 않은 것처럼</td>\n",
       "      <td>류시화</td>\n",
       "      <td>오래된미래</td>\n",
       "      <td>20081024</td>\n",
       "      <td>시/에세이</td>\n",
       "      <td>\\9,500</td>\n",
       "    </tr>\n",
       "    <tr>\n",
       "      <th>6</th>\n",
       "      <td>7</td>\n",
       "      <td>9,78899E+12</td>\n",
       "      <td>해커스 토익 READING</td>\n",
       "      <td>David Cho</td>\n",
       "      <td>해커스어학연구소</td>\n",
       "      <td>20050102</td>\n",
       "      <td>외국어</td>\n",
       "      <td>\\18,800</td>\n",
       "    </tr>\n",
       "    <tr>\n",
       "      <th>7</th>\n",
       "      <td>8</td>\n",
       "      <td>9,78895E+12</td>\n",
       "      <td>2010 대한민국 트렌드</td>\n",
       "      <td>LG경제연구원</td>\n",
       "      <td>한국경제신문사</td>\n",
       "      <td>20050115</td>\n",
       "      <td>경제/경영</td>\n",
       "      <td>\\12,000</td>\n",
       "    </tr>\n",
       "    <tr>\n",
       "      <th>8</th>\n",
       "      <td>9</td>\n",
       "      <td>9,78898E+12</td>\n",
       "      <td>해리포터와 혼혈왕자 제6권 1</td>\n",
       "      <td>조앤 K. 롤링</td>\n",
       "      <td>문학수첩</td>\n",
       "      <td>20051101</td>\n",
       "      <td>소설</td>\n",
       "      <td>\\8,500</td>\n",
       "    </tr>\n",
       "    <tr>\n",
       "      <th>9</th>\n",
       "      <td>10</td>\n",
       "      <td>9,78895E+12</td>\n",
       "      <td>설득의 심리학. 1</td>\n",
       "      <td>로버트 치알디니</td>\n",
       "      <td>21세기북스</td>\n",
       "      <td>20020930</td>\n",
       "      <td>자기계발</td>\n",
       "      <td>\\12,000</td>\n",
       "    </tr>\n",
       "    <tr>\n",
       "      <th>10</th>\n",
       "      <td>11</td>\n",
       "      <td>9,78895E+12</td>\n",
       "      <td>긍정의 힘</td>\n",
       "      <td>조엘 오스틴</td>\n",
       "      <td>두란노</td>\n",
       "      <td>20050511</td>\n",
       "      <td>종교</td>\n",
       "      <td>\\12,000</td>\n",
       "    </tr>\n",
       "    <tr>\n",
       "      <th>11</th>\n",
       "      <td>12</td>\n",
       "      <td>9,78896E+12</td>\n",
       "      <td>여자의 모든 인생은 20대에 결정된다</td>\n",
       "      <td>남인숙</td>\n",
       "      <td>랜덤하우스코리아</td>\n",
       "      <td>20040710</td>\n",
       "      <td>자기계발</td>\n",
       "      <td>\\8,500</td>\n",
       "    </tr>\n",
       "    <tr>\n",
       "      <th>12</th>\n",
       "      <td>13</td>\n",
       "      <td>9,78897E+12</td>\n",
       "      <td>지도 밖으로 행군하라</td>\n",
       "      <td>한비야</td>\n",
       "      <td>푸른숲</td>\n",
       "      <td>20050908</td>\n",
       "      <td>여행</td>\n",
       "      <td>\\12,000</td>\n",
       "    </tr>\n",
       "    <tr>\n",
       "      <th>13</th>\n",
       "      <td>14</td>\n",
       "      <td>9,78898E+12</td>\n",
       "      <td>베로니카 죽기로 결심하다(양장본 HardCover)</td>\n",
       "      <td>파울로 코엘료</td>\n",
       "      <td>문학동네</td>\n",
       "      <td>20140410</td>\n",
       "      <td>소설</td>\n",
       "      <td>\\11,500</td>\n",
       "    </tr>\n",
       "    <tr>\n",
       "      <th>14</th>\n",
       "      <td>15</td>\n",
       "      <td>9,78896E+12</td>\n",
       "      <td>공중그네</td>\n",
       "      <td>오쿠다 히데오</td>\n",
       "      <td>은행나무</td>\n",
       "      <td>20150615</td>\n",
       "      <td>소설</td>\n",
       "      <td>\\12,000</td>\n",
       "    </tr>\n",
       "    <tr>\n",
       "      <th>15</th>\n",
       "      <td>16</td>\n",
       "      <td>9,78899E+12</td>\n",
       "      <td>해커스 토익(CD1장포함)</td>\n",
       "      <td>David Cho</td>\n",
       "      <td>해커스어학연구소</td>\n",
       "      <td>20041202</td>\n",
       "      <td>외국어</td>\n",
       "      <td>\\18,900</td>\n",
       "    </tr>\n",
       "    <tr>\n",
       "      <th>16</th>\n",
       "      <td>17</td>\n",
       "      <td>9,78897E+12</td>\n",
       "      <td>어둠의 저편</td>\n",
       "      <td>무라카미 하루키</td>\n",
       "      <td>문학사상</td>\n",
       "      <td>20050526</td>\n",
       "      <td>소설</td>\n",
       "      <td>\\13,800</td>\n",
       "    </tr>\n",
       "    <tr>\n",
       "      <th>17</th>\n",
       "      <td>18</td>\n",
       "      <td>9,78896E+12</td>\n",
       "      <td>선물</td>\n",
       "      <td>스펜서 존슨</td>\n",
       "      <td>랜덤하우스코리아</td>\n",
       "      <td>20031215</td>\n",
       "      <td>자기계발</td>\n",
       "      <td>\\8,500</td>\n",
       "    </tr>\n",
       "    <tr>\n",
       "      <th>18</th>\n",
       "      <td>19</td>\n",
       "      <td>9,78897E+12</td>\n",
       "      <td>미실(제1회 세계문학상 당선작)</td>\n",
       "      <td>김별아</td>\n",
       "      <td>문이당</td>\n",
       "      <td>20050305</td>\n",
       "      <td>소설</td>\n",
       "      <td>\\9,500</td>\n",
       "    </tr>\n",
       "    <tr>\n",
       "      <th>19</th>\n",
       "      <td>20</td>\n",
       "      <td>9,78894E+12</td>\n",
       "      <td>목적이 이끄는 삶</td>\n",
       "      <td>릭 워렌</td>\n",
       "      <td>디모데</td>\n",
       "      <td>20030125</td>\n",
       "      <td>종교</td>\n",
       "      <td>\\12,000</td>\n",
       "    </tr>\n",
       "    <tr>\n",
       "      <th>20</th>\n",
       "      <td>21</td>\n",
       "      <td>9,78898E+12</td>\n",
       "      <td>천국에서 만난 다섯사람</td>\n",
       "      <td>미치 앨봄</td>\n",
       "      <td>세종서적</td>\n",
       "      <td>20050320</td>\n",
       "      <td>소설</td>\n",
       "      <td>\\9,000</td>\n",
       "    </tr>\n",
       "    <tr>\n",
       "      <th>21</th>\n",
       "      <td>22</td>\n",
       "      <td>9,78898E+12</td>\n",
       "      <td>오 자히르(양장본 HardCover)</td>\n",
       "      <td>파울로 코엘료</td>\n",
       "      <td>문학동네</td>\n",
       "      <td>20131224</td>\n",
       "      <td>소설</td>\n",
       "      <td>\\13,800</td>\n",
       "    </tr>\n",
       "    <tr>\n",
       "      <th>22</th>\n",
       "      <td>23</td>\n",
       "      <td>9,78899E+12</td>\n",
       "      <td>세상의 중심에서 사랑을 외치다</td>\n",
       "      <td>카타야마 쿄이치</td>\n",
       "      <td>지식여행</td>\n",
       "      <td>20051010</td>\n",
       "      <td>소설</td>\n",
       "      <td>\\5,900</td>\n",
       "    </tr>\n",
       "    <tr>\n",
       "      <th>23</th>\n",
       "      <td>24</td>\n",
       "      <td>9,78897E+12</td>\n",
       "      <td>그 남자네 집</td>\n",
       "      <td>박완서</td>\n",
       "      <td>현대문학</td>\n",
       "      <td>20041023</td>\n",
       "      <td>소설</td>\n",
       "      <td>\\9,000</td>\n",
       "    </tr>\n",
       "    <tr>\n",
       "      <th>24</th>\n",
       "      <td>25</td>\n",
       "      <td>9,78896E+12</td>\n",
       "      <td>아이 안에 숨어 있는 두뇌의 힘을 키워라</td>\n",
       "      <td>이승헌</td>\n",
       "      <td>한문화</td>\n",
       "      <td>20050221</td>\n",
       "      <td>가정/육아</td>\n",
       "      <td>\\9,800</td>\n",
       "    </tr>\n",
       "    <tr>\n",
       "      <th>25</th>\n",
       "      <td>26</td>\n",
       "      <td>9,78893E+12</td>\n",
       "      <td>21세기 먼나라 이웃나라 12 (미국 3:대통령 편) (올컬러판)</td>\n",
       "      <td>이원복</td>\n",
       "      <td>김영사</td>\n",
       "      <td>20050120</td>\n",
       "      <td>어린이(초등)</td>\n",
       "      <td>\\11,900</td>\n",
       "    </tr>\n",
       "    <tr>\n",
       "      <th>26</th>\n",
       "      <td>27</td>\n",
       "      <td>9,78897E+12</td>\n",
       "      <td>사소한 것에 목숨 걸지 마라(습관 바꾸기 편)</td>\n",
       "      <td>리처드 칼슨</td>\n",
       "      <td>도솔</td>\n",
       "      <td>20040802</td>\n",
       "      <td>자기계발</td>\n",
       "      <td>\\7,800</td>\n",
       "    </tr>\n",
       "    <tr>\n",
       "      <th>27</th>\n",
       "      <td>28</td>\n",
       "      <td>9,78897E+12</td>\n",
       "      <td>우리들의 행복한 시간</td>\n",
       "      <td>공지영</td>\n",
       "      <td>푸른숲</td>\n",
       "      <td>20050417</td>\n",
       "      <td>소설</td>\n",
       "      <td>\\9,500</td>\n",
       "    </tr>\n",
       "    <tr>\n",
       "      <th>28</th>\n",
       "      <td>29</td>\n",
       "      <td>9,78898E+12</td>\n",
       "      <td>진주 귀고리 소녀</td>\n",
       "      <td>트레이시 슈발리에</td>\n",
       "      <td>강</td>\n",
       "      <td>20030825</td>\n",
       "      <td>소설</td>\n",
       "      <td>\\9,500</td>\n",
       "    </tr>\n",
       "    <tr>\n",
       "      <th>29</th>\n",
       "      <td>30</td>\n",
       "      <td>9,78898E+12</td>\n",
       "      <td>미운오리새끼의 출근</td>\n",
       "      <td>메트 노가드</td>\n",
       "      <td>생각의나무</td>\n",
       "      <td>20050402</td>\n",
       "      <td>자기계발</td>\n",
       "      <td>\\10,000</td>\n",
       "    </tr>\n",
       "    <tr>\n",
       "      <th>30</th>\n",
       "      <td>31</td>\n",
       "      <td>9,78897E+12</td>\n",
       "      <td>토마토:토익점수마구올려주는토익(READING) (2/E)</td>\n",
       "      <td>오혜정</td>\n",
       "      <td>능률교육</td>\n",
       "      <td>20041006</td>\n",
       "      <td>외국어</td>\n",
       "      <td>\\20,000</td>\n",
       "    </tr>\n",
       "    <tr>\n",
       "      <th>31</th>\n",
       "      <td>32</td>\n",
       "      <td>9,78896E+12</td>\n",
       "      <td>천사와 악마 1</td>\n",
       "      <td>댄 브라운</td>\n",
       "      <td>북스캔</td>\n",
       "      <td>20040930</td>\n",
       "      <td>소설</td>\n",
       "      <td>\\8,800</td>\n",
       "    </tr>\n",
       "    <tr>\n",
       "      <th>32</th>\n",
       "      <td>33</td>\n",
       "      <td>9,78896E+12</td>\n",
       "      <td>그 남자 그 여자 2</td>\n",
       "      <td>이미나</td>\n",
       "      <td>랜덤하우스코리아</td>\n",
       "      <td>20041211</td>\n",
       "      <td>시/에세이</td>\n",
       "      <td>\\9,500</td>\n",
       "    </tr>\n",
       "    <tr>\n",
       "      <th>33</th>\n",
       "      <td>34</td>\n",
       "      <td>9,78898E+12</td>\n",
       "      <td>칼의 노래 1(개정판)</td>\n",
       "      <td>김훈</td>\n",
       "      <td>생각의나무</td>\n",
       "      <td>20031208</td>\n",
       "      <td>소설</td>\n",
       "      <td>\\7,500</td>\n",
       "    </tr>\n",
       "    <tr>\n",
       "      <th>34</th>\n",
       "      <td>35</td>\n",
       "      <td>9,78899E+12</td>\n",
       "      <td>Hackers TOEFL Vocabulary (2005)(CBT/PBT)(4판)</td>\n",
       "      <td>David Cho</td>\n",
       "      <td>해커스어학연구소</td>\n",
       "      <td>20050314</td>\n",
       "      <td>외국어</td>\n",
       "      <td>\\15,900</td>\n",
       "    </tr>\n",
       "    <tr>\n",
       "      <th>35</th>\n",
       "      <td>36</td>\n",
       "      <td>9,78895E+12</td>\n",
       "      <td>마법천자문. 7</td>\n",
       "      <td>스튜디오 시리얼</td>\n",
       "      <td>북이십일 아울북</td>\n",
       "      <td>20041223</td>\n",
       "      <td>어린이(초등)</td>\n",
       "      <td>\\8,800</td>\n",
       "    </tr>\n",
       "    <tr>\n",
       "      <th>36</th>\n",
       "      <td>37</td>\n",
       "      <td>9,78898E+12</td>\n",
       "      <td>이익훈 EYE OF THE TOEIC (R/C) (개정판) (특별부록 CD 포함)</td>\n",
       "      <td>이익훈</td>\n",
       "      <td>넥서스</td>\n",
       "      <td>20050218</td>\n",
       "      <td>외국어</td>\n",
       "      <td>\\18,500</td>\n",
       "    </tr>\n",
       "    <tr>\n",
       "      <th>37</th>\n",
       "      <td>38</td>\n",
       "      <td>9,78897E+12</td>\n",
       "      <td>유림. 1</td>\n",
       "      <td>최인호</td>\n",
       "      <td>열림원</td>\n",
       "      <td>20050630</td>\n",
       "      <td>소설</td>\n",
       "      <td>\\9,500</td>\n",
       "    </tr>\n",
       "    <tr>\n",
       "      <th>38</th>\n",
       "      <td>39</td>\n",
       "      <td>9,7889E+12</td>\n",
       "      <td>괴짜 경제학</td>\n",
       "      <td>스티븐 레빗</td>\n",
       "      <td>웅진지식하우스</td>\n",
       "      <td>20050627</td>\n",
       "      <td>경제/경영</td>\n",
       "      <td>\\12,000</td>\n",
       "    </tr>\n",
       "    <tr>\n",
       "      <th>39</th>\n",
       "      <td>40</td>\n",
       "      <td>9,78897E+12</td>\n",
       "      <td>파이 이야기</td>\n",
       "      <td>얀 마텔</td>\n",
       "      <td>작가정신</td>\n",
       "      <td>20131113</td>\n",
       "      <td>소설</td>\n",
       "      <td>\\14,000</td>\n",
       "    </tr>\n",
       "    <tr>\n",
       "      <th>40</th>\n",
       "      <td>41</td>\n",
       "      <td>9,78895E+12</td>\n",
       "      <td>찰리와 초콜릿 공장(양장본 HardCover)</td>\n",
       "      <td>로알드 달</td>\n",
       "      <td>시공주니어</td>\n",
       "      <td>20040220</td>\n",
       "      <td>어린이(초등)</td>\n",
       "      <td>\\9,000</td>\n",
       "    </tr>\n",
       "    <tr>\n",
       "      <th>41</th>\n",
       "      <td>42</td>\n",
       "      <td>9,78896E+12</td>\n",
       "      <td>웃지마 나 영어책이야</td>\n",
       "      <td>문덕</td>\n",
       "      <td>랜덤하우스코리아</td>\n",
       "      <td>20050725</td>\n",
       "      <td>외국어</td>\n",
       "      <td>\\9,500</td>\n",
       "    </tr>\n",
       "    <tr>\n",
       "      <th>42</th>\n",
       "      <td>43</td>\n",
       "      <td>9,78899E+12</td>\n",
       "      <td>해커스 그래머 스타트(Hackers Grammar Start)</td>\n",
       "      <td>David Cho</td>\n",
       "      <td>해커스어학연구소</td>\n",
       "      <td>20040107</td>\n",
       "      <td>외국어</td>\n",
       "      <td>\\16,900</td>\n",
       "    </tr>\n",
       "    <tr>\n",
       "      <th>43</th>\n",
       "      <td>44</td>\n",
       "      <td>9,78893E+12</td>\n",
       "      <td>CEO 안철수, 지금 우리에게 필요한 것은</td>\n",
       "      <td>안철수</td>\n",
       "      <td>김영사</td>\n",
       "      <td>20041216</td>\n",
       "      <td>자기계발</td>\n",
       "      <td>\\10,900</td>\n",
       "    </tr>\n",
       "    <tr>\n",
       "      <th>44</th>\n",
       "      <td>45</td>\n",
       "      <td>9,78893E+12</td>\n",
       "      <td>2000원으로 밥상차리기</td>\n",
       "      <td>김용환</td>\n",
       "      <td>영진닷컴</td>\n",
       "      <td>20031115</td>\n",
       "      <td>요리</td>\n",
       "      <td>\\8,800</td>\n",
       "    </tr>\n",
       "    <tr>\n",
       "      <th>45</th>\n",
       "      <td>46</td>\n",
       "      <td>9,78898E+12</td>\n",
       "      <td>폰더씨의 위대한 하루</td>\n",
       "      <td>앤디 앤드루스</td>\n",
       "      <td>세종서적</td>\n",
       "      <td>20030725</td>\n",
       "      <td>시/에세이</td>\n",
       "      <td>\\9,500</td>\n",
       "    </tr>\n",
       "    <tr>\n",
       "      <th>46</th>\n",
       "      <td>47</td>\n",
       "      <td>9,78897E+12</td>\n",
       "      <td>몽고반점 (제29회 이상문학상 수상작품집 2005년도)</td>\n",
       "      <td>한강</td>\n",
       "      <td>문학사상사</td>\n",
       "      <td>20050125</td>\n",
       "      <td>소설</td>\n",
       "      <td>\\11,000</td>\n",
       "    </tr>\n",
       "    <tr>\n",
       "      <th>47</th>\n",
       "      <td>48</td>\n",
       "      <td>9,78899E+12</td>\n",
       "      <td>위트 상식사전</td>\n",
       "      <td>롤프 브레드니히</td>\n",
       "      <td>보누스</td>\n",
       "      <td>20050901</td>\n",
       "      <td>시/에세이</td>\n",
       "      <td>\\10,800</td>\n",
       "    </tr>\n",
       "    <tr>\n",
       "      <th>48</th>\n",
       "      <td>49</td>\n",
       "      <td>9,7889E+12</td>\n",
       "      <td>지문 사냥꾼</td>\n",
       "      <td>이적</td>\n",
       "      <td>웅진지식하우스</td>\n",
       "      <td>20050515</td>\n",
       "      <td>소설</td>\n",
       "      <td>\\13,000</td>\n",
       "    </tr>\n",
       "    <tr>\n",
       "      <th>49</th>\n",
       "      <td>50</td>\n",
       "      <td>9,78898E+12</td>\n",
       "      <td>모리와 함께한 화요일(양장본 HardCover)</td>\n",
       "      <td>미치 앨봄</td>\n",
       "      <td>세종서적</td>\n",
       "      <td>20020320</td>\n",
       "      <td>시/에세이</td>\n",
       "      <td>\\8,500</td>\n",
       "    </tr>\n",
       "  </tbody>\n",
       "</table>\n",
       "</div>"
      ],
      "text/plain": [
       "    순위         ISBN                                            도서명        저자명  \\\n",
       "0    1  9,78899E+12                           살아 있는 동안 꼭 해야 할 49가지        탄줘잉   \n",
       "1    2  9,78896E+12                                      다 빈치 코드 1      댄 브라운   \n",
       "2    3  9,78895E+12                                 모모(비룡소 걸작선 13)     미하엘 엔데   \n",
       "3    4  9,78898E+12                                           연금술사    파울로 코엘료   \n",
       "4    5  9,78897E+12                          블루오션전략(양장본 HardCover)        김위찬   \n",
       "5    6    9,789E+12                           사랑하라 한번도 상처받지 않은 것처럼        류시화   \n",
       "6    7  9,78899E+12                                 해커스 토익 READING  David Cho   \n",
       "7    8  9,78895E+12                                  2010 대한민국 트렌드    LG경제연구원   \n",
       "8    9  9,78898E+12                               해리포터와 혼혈왕자 제6권 1   조앤 K. 롤링   \n",
       "9   10  9,78895E+12                                     설득의 심리학. 1   로버트 치알디니   \n",
       "10  11  9,78895E+12                                          긍정의 힘     조엘 오스틴   \n",
       "11  12  9,78896E+12                           여자의 모든 인생은 20대에 결정된다        남인숙   \n",
       "12  13  9,78897E+12                                    지도 밖으로 행군하라        한비야   \n",
       "13  14  9,78898E+12                   베로니카 죽기로 결심하다(양장본 HardCover)    파울로 코엘료   \n",
       "14  15  9,78896E+12                                           공중그네    오쿠다 히데오   \n",
       "15  16  9,78899E+12                                 해커스 토익(CD1장포함)  David Cho   \n",
       "16  17  9,78897E+12                                         어둠의 저편   무라카미 하루키   \n",
       "17  18  9,78896E+12                                             선물     스펜서 존슨   \n",
       "18  19  9,78897E+12                              미실(제1회 세계문학상 당선작)        김별아   \n",
       "19  20  9,78894E+12                                      목적이 이끄는 삶       릭 워렌   \n",
       "20  21  9,78898E+12                                   천국에서 만난 다섯사람      미치 앨봄   \n",
       "21  22  9,78898E+12                           오 자히르(양장본 HardCover)    파울로 코엘료   \n",
       "22  23  9,78899E+12                               세상의 중심에서 사랑을 외치다   카타야마 쿄이치   \n",
       "23  24  9,78897E+12                                        그 남자네 집        박완서   \n",
       "24  25  9,78896E+12                         아이 안에 숨어 있는 두뇌의 힘을 키워라        이승헌   \n",
       "25  26  9,78893E+12           21세기 먼나라 이웃나라 12 (미국 3:대통령 편) (올컬러판)        이원복   \n",
       "26  27  9,78897E+12                      사소한 것에 목숨 걸지 마라(습관 바꾸기 편)     리처드 칼슨   \n",
       "27  28  9,78897E+12                                    우리들의 행복한 시간        공지영   \n",
       "28  29  9,78898E+12                                      진주 귀고리 소녀  트레이시 슈발리에   \n",
       "29  30  9,78898E+12                                     미운오리새끼의 출근     메트 노가드   \n",
       "30  31  9,78897E+12                토마토:토익점수마구올려주는토익(READING) (2/E)        오혜정   \n",
       "31  32  9,78896E+12                                       천사와 악마 1      댄 브라운   \n",
       "32  33  9,78896E+12                                    그 남자 그 여자 2        이미나   \n",
       "33  34  9,78898E+12                                   칼의 노래 1(개정판)         김훈   \n",
       "34  35  9,78899E+12   Hackers TOEFL Vocabulary (2005)(CBT/PBT)(4판)  David Cho   \n",
       "35  36  9,78895E+12                                       마법천자문. 7   스튜디오 시리얼   \n",
       "36  37  9,78898E+12  이익훈 EYE OF THE TOEIC (R/C) (개정판) (특별부록 CD 포함)        이익훈   \n",
       "37  38  9,78897E+12                                          유림. 1        최인호   \n",
       "38  39   9,7889E+12                                         괴짜 경제학     스티븐 레빗   \n",
       "39  40  9,78897E+12                                         파이 이야기       얀 마텔   \n",
       "40  41  9,78895E+12                      찰리와 초콜릿 공장(양장본 HardCover)      로알드 달   \n",
       "41  42  9,78896E+12                                    웃지마 나 영어책이야         문덕   \n",
       "42  43  9,78899E+12             해커스 그래머 스타트(Hackers Grammar Start)  David Cho   \n",
       "43  44  9,78893E+12                        CEO 안철수, 지금 우리에게 필요한 것은        안철수   \n",
       "44  45  9,78893E+12                                  2000원으로 밥상차리기        김용환   \n",
       "45  46  9,78898E+12                                    폰더씨의 위대한 하루    앤디 앤드루스   \n",
       "46  47  9,78897E+12                 몽고반점 (제29회 이상문학상 수상작품집 2005년도)         한강   \n",
       "47  48  9,78899E+12                                        위트 상식사전   롤프 브레드니히   \n",
       "48  49   9,7889E+12                                         지문 사냥꾼         이적   \n",
       "49  50  9,78898E+12                     모리와 함께한 화요일(양장본 HardCover)      미치 앨봄   \n",
       "\n",
       "        출판사명       출간일       분야       정가  \n",
       "0     위즈덤하우스  20041220     자기계발   \\8,800  \n",
       "1        북스캔  20070611       소설   \\7,800  \n",
       "2        비룡소  20091020       소설  \\12,000  \n",
       "3       문학동네  20181205       소설   \\9,500  \n",
       "4       교보문고  20050407    경제/경영  \\17,000  \n",
       "5      오래된미래  20081024    시/에세이   \\9,500  \n",
       "6   해커스어학연구소  20050102      외국어  \\18,800  \n",
       "7    한국경제신문사  20050115    경제/경영  \\12,000  \n",
       "8       문학수첩  20051101       소설   \\8,500  \n",
       "9     21세기북스  20020930     자기계발  \\12,000  \n",
       "10       두란노  20050511       종교  \\12,000  \n",
       "11  랜덤하우스코리아  20040710     자기계발   \\8,500  \n",
       "12       푸른숲  20050908       여행  \\12,000  \n",
       "13      문학동네  20140410       소설  \\11,500  \n",
       "14      은행나무  20150615       소설  \\12,000  \n",
       "15  해커스어학연구소  20041202      외국어  \\18,900  \n",
       "16      문학사상  20050526       소설  \\13,800  \n",
       "17  랜덤하우스코리아  20031215     자기계발   \\8,500  \n",
       "18       문이당  20050305       소설   \\9,500  \n",
       "19       디모데  20030125       종교  \\12,000  \n",
       "20      세종서적  20050320       소설   \\9,000  \n",
       "21      문학동네  20131224       소설  \\13,800  \n",
       "22      지식여행  20051010       소설   \\5,900  \n",
       "23      현대문학  20041023       소설   \\9,000  \n",
       "24       한문화  20050221    가정/육아   \\9,800  \n",
       "25       김영사  20050120  어린이(초등)  \\11,900  \n",
       "26        도솔  20040802     자기계발   \\7,800  \n",
       "27       푸른숲  20050417       소설   \\9,500  \n",
       "28         강  20030825       소설   \\9,500  \n",
       "29     생각의나무  20050402     자기계발  \\10,000  \n",
       "30      능률교육  20041006      외국어  \\20,000  \n",
       "31       북스캔  20040930       소설   \\8,800  \n",
       "32  랜덤하우스코리아  20041211    시/에세이   \\9,500  \n",
       "33     생각의나무  20031208       소설   \\7,500  \n",
       "34  해커스어학연구소  20050314      외국어  \\15,900  \n",
       "35  북이십일 아울북  20041223  어린이(초등)   \\8,800  \n",
       "36       넥서스  20050218      외국어  \\18,500  \n",
       "37       열림원  20050630       소설   \\9,500  \n",
       "38   웅진지식하우스  20050627    경제/경영  \\12,000  \n",
       "39      작가정신  20131113       소설  \\14,000  \n",
       "40     시공주니어  20040220  어린이(초등)   \\9,000  \n",
       "41  랜덤하우스코리아  20050725      외국어   \\9,500  \n",
       "42  해커스어학연구소  20040107      외국어  \\16,900  \n",
       "43       김영사  20041216     자기계발  \\10,900  \n",
       "44      영진닷컴  20031115       요리   \\8,800  \n",
       "45      세종서적  20030725    시/에세이   \\9,500  \n",
       "46     문학사상사  20050125       소설  \\11,000  \n",
       "47       보누스  20050901    시/에세이  \\10,800  \n",
       "48   웅진지식하우스  20050515       소설  \\13,000  \n",
       "49      세종서적  20020320    시/에세이   \\8,500  "
      ]
     },
     "execution_count": 216,
     "metadata": {},
     "output_type": "execute_result"
    }
   ],
   "source": [
    "B2014_50"
   ]
  },
  {
   "cell_type": "code",
   "execution_count": 1,
   "metadata": {},
   "outputs": [
    {
     "ename": "NameError",
     "evalue": "name 'data_bs' is not defined",
     "output_type": "error",
     "traceback": [
      "\u001b[0;31m---------------------------------------------------------------------------\u001b[0m",
      "\u001b[0;31mNameError\u001b[0m                                 Traceback (most recent call last)",
      "\u001b[0;32m<ipython-input-1-284bc422dd87>\u001b[0m in \u001b[0;36m<module>\u001b[0;34m\u001b[0m\n\u001b[0;32m----> 1\u001b[0;31m \u001b[0mdata_bs\u001b[0m\u001b[0;34m[\u001b[0m\u001b[0;34m'ISBN'\u001b[0m\u001b[0;34m]\u001b[0m\u001b[0;34m\u001b[0m\u001b[0;34m\u001b[0m\u001b[0m\n\u001b[0m",
      "\u001b[0;31mNameError\u001b[0m: name 'data_bs' is not defined"
     ]
    }
   ],
   "source": [
    "data_bs['ISBN']"
   ]
  },
  {
   "cell_type": "code",
   "execution_count": null,
   "metadata": {},
   "outputs": [],
   "source": []
  }
 ],
 "metadata": {
  "kernelspec": {
   "display_name": "Python 3",
   "language": "python",
   "name": "python3"
  },
  "language_info": {
   "codemirror_mode": {
    "name": "ipython",
    "version": 3
   },
   "file_extension": ".py",
   "mimetype": "text/x-python",
   "name": "python",
   "nbconvert_exporter": "python",
   "pygments_lexer": "ipython3",
   "version": "3.7.3"
  }
 },
 "nbformat": 4,
 "nbformat_minor": 2
}
