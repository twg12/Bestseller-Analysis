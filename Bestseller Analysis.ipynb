{
 "cells": [
  {
   "cell_type": "code",
   "execution_count": 113,
   "metadata": {},
   "outputs": [],
   "source": [
    "# Bestseller Analysis\n",
    "import pandas as pd\n",
    "import matplotlib.pyplot as plt"
   ]
  },
  {
   "cell_type": "code",
   "execution_count": null,
   "metadata": {},
   "outputs": [],
   "source": []
  },
  {
   "cell_type": "code",
   "execution_count": 114,
   "metadata": {},
   "outputs": [],
   "source": [
    "B2000 = pd.read_csv('베스트_2000.csv', encoding = 'cp949', sep = ';')\n",
    "B2001 = pd.read_csv('베스트_2001.csv', encoding = 'cp949', sep = ';')\n",
    "B2002 = pd.read_csv('베스트_2002.csv', encoding = 'cp949', sep = ';')\n",
    "B2003 = pd.read_csv('베스트_2003.csv', encoding = 'cp949', sep = ';')\n",
    "B2004 = pd.read_csv('베스트_2004.csv', encoding = 'cp949', sep = ';')\n",
    "B2005 = pd.read_csv('베스트_2005.csv', encoding = 'cp949', sep = ';')\n",
    "B2006 = pd.read_csv('베스트_2006.csv', encoding = 'cp949', sep = ';')\n",
    "B2007 = pd.read_csv('베스트_2007.csv', encoding = 'cp949', sep = ';')\n",
    "B2008 = pd.read_csv('베스트_2008.csv', encoding = 'cp949', sep = ';')\n",
    "B2009 = pd.read_csv('베스트_2009.csv', encoding = 'cp949', sep = ';')\n",
    "B2010 = pd.read_csv('베스트_2010.csv', encoding = 'cp949', sep = ';')\n",
    "B2011 = pd.read_csv('베스트_2011.csv', encoding = 'cp949', sep = ';')\n",
    "B2012 = pd.read_csv('베스트_2012.csv', encoding = 'cp949', sep = ';')\n",
    "B2013 = pd.read_csv('베스트_2013.csv', encoding = 'cp949', sep = ';')\n",
    "B2014 = pd.read_csv('베스트_2014.csv', encoding = 'cp949', sep = ';')\n",
    "B2015 = pd.read_csv('베스트_2015.csv', encoding = 'cp949', sep = ';')\n",
    "B2016 = pd.read_csv('베스트_2016.csv', encoding = 'cp949', sep = ';')\n",
    "B2017 = pd.read_csv('베스트_2017.csv', encoding = 'cp949', sep = ';')\n",
    "B2018 = pd.read_csv('베스트_2018.csv', encoding = 'cp949', sep = ';')"
   ]
  },
  {
   "cell_type": "code",
   "execution_count": null,
   "metadata": {},
   "outputs": [],
   "source": []
  },
  {
   "cell_type": "code",
   "execution_count": 115,
   "metadata": {},
   "outputs": [],
   "source": [
    "# 2000년도"
   ]
  },
  {
   "cell_type": "code",
   "execution_count": 116,
   "metadata": {},
   "outputs": [
    {
     "data": {
      "text/html": [
       "<div>\n",
       "<style scoped>\n",
       "    .dataframe tbody tr th:only-of-type {\n",
       "        vertical-align: middle;\n",
       "    }\n",
       "\n",
       "    .dataframe tbody tr th {\n",
       "        vertical-align: top;\n",
       "    }\n",
       "\n",
       "    .dataframe thead th {\n",
       "        text-align: right;\n",
       "    }\n",
       "</style>\n",
       "<table border=\"1\" class=\"dataframe\">\n",
       "  <thead>\n",
       "    <tr style=\"text-align: right;\">\n",
       "      <th></th>\n",
       "      <th>순위</th>\n",
       "      <th>ISBN</th>\n",
       "      <th>도서명</th>\n",
       "      <th>저자명</th>\n",
       "      <th>출판사명</th>\n",
       "      <th>출간일</th>\n",
       "      <th>분야</th>\n",
       "      <th>정가</th>\n",
       "    </tr>\n",
       "  </thead>\n",
       "  <tbody>\n",
       "    <tr>\n",
       "      <th>0</th>\n",
       "      <td>1</td>\n",
       "      <td>9788984370067</td>\n",
       "      <td>가시고기</td>\n",
       "      <td>조창인</td>\n",
       "      <td>밝은세상</td>\n",
       "      <td>20000110</td>\n",
       "      <td>소설</td>\n",
       "      <td>\\7,500</td>\n",
       "    </tr>\n",
       "    <tr>\n",
       "      <th>1</th>\n",
       "      <td>2</td>\n",
       "      <td>9788983920683</td>\n",
       "      <td>해리포터와 마법사의 돌 제1권 1</td>\n",
       "      <td>조앤 K. 롤링</td>\n",
       "      <td>문학수첩</td>\n",
       "      <td>20091005</td>\n",
       "      <td>소설</td>\n",
       "      <td>\\8,000</td>\n",
       "    </tr>\n",
       "    <tr>\n",
       "      <th>2</th>\n",
       "      <td>3</td>\n",
       "      <td>9788982732362</td>\n",
       "      <td>부자 아빠 가난한 아빠. 1</td>\n",
       "      <td>로버트 기요사키</td>\n",
       "      <td>황금가지</td>\n",
       "      <td>20090302</td>\n",
       "      <td>경제/경영</td>\n",
       "      <td>\\12,000</td>\n",
       "    </tr>\n",
       "    <tr>\n",
       "      <th>3</th>\n",
       "      <td>4</td>\n",
       "      <td>9788988045930</td>\n",
       "      <td>국화꽃 향기. 1</td>\n",
       "      <td>김하인</td>\n",
       "      <td>생각의나무</td>\n",
       "      <td>20090420</td>\n",
       "      <td>소설</td>\n",
       "      <td>\\8,800</td>\n",
       "    </tr>\n",
       "    <tr>\n",
       "      <th>4</th>\n",
       "      <td>5</td>\n",
       "      <td>9788986167511</td>\n",
       "      <td>영어공부 절대로 하지마라</td>\n",
       "      <td>정찬용</td>\n",
       "      <td>사회평론</td>\n",
       "      <td>19990719</td>\n",
       "      <td>외국어</td>\n",
       "      <td>\\6,500</td>\n",
       "    </tr>\n",
       "  </tbody>\n",
       "</table>\n",
       "</div>"
      ],
      "text/plain": [
       "   순위           ISBN                 도서명       저자명   출판사명       출간일     분야  \\\n",
       "0   1  9788984370067                가시고기       조창인   밝은세상  20000110     소설   \n",
       "1   2  9788983920683  해리포터와 마법사의 돌 제1권 1  조앤 K. 롤링   문학수첩  20091005     소설   \n",
       "2   3  9788982732362     부자 아빠 가난한 아빠. 1  로버트 기요사키   황금가지  20090302  경제/경영   \n",
       "3   4  9788988045930           국화꽃 향기. 1       김하인  생각의나무  20090420     소설   \n",
       "4   5  9788986167511       영어공부 절대로 하지마라       정찬용   사회평론  19990719    외국어   \n",
       "\n",
       "        정가  \n",
       "0   \\7,500  \n",
       "1   \\8,000  \n",
       "2  \\12,000  \n",
       "3   \\8,800  \n",
       "4   \\6,500  "
      ]
     },
     "execution_count": 116,
     "metadata": {},
     "output_type": "execute_result"
    }
   ],
   "source": [
    "B2000.head()"
   ]
  },
  {
   "cell_type": "code",
   "execution_count": 117,
   "metadata": {},
   "outputs": [],
   "source": [
    "분야 = B2000['분야'].unique()\n",
    "B2000.groupby('분야').sum()\n",
    "분야수 = [119, 418, 286, 83, 24, 74, 58, 148, 19, 46]"
   ]
  },
  {
   "cell_type": "code",
   "execution_count": 118,
   "metadata": {},
   "outputs": [
    {
     "data": {
      "image/png": "[encoded data removed]",
      "text/plain": [
       "<Figure size 432x288 with 1 Axes>"
      ]
     },
     "metadata": {},
     "output_type": "display_data"
    }
   ],
   "source": [
    "labels = 분야\n",
    "sizes = 분야수\n",
    "\n",
    "colors = ['#ff9999','#66b3ff','#99ff99','#ffcc99']\n",
    " \n",
    "fig1, ax1 = plt.subplots()\n",
    "patches, texts, autotexts = ax1.pie(sizes, colors = colors, labels=labels, autopct='%1.1f%%', startangle=90)\n",
    "for text in texts:\n",
    "    text.set_color('grey')\n",
    "for autotext in autotexts:\n",
    "    autotext.set_color('grey')\n",
    "\n",
    "ax1.axis('equal')  \n",
    "plt.tight_layout()\n",
    "plt.show()"
   ]
  },
  {
   "cell_type": "code",
   "execution_count": null,
   "metadata": {},
   "outputs": [],
   "source": []
  }
 ],
 "metadata": {
  "kernelspec": {
   "display_name": "Python 3",
   "language": "python",
   "name": "python3"
  },
  "language_info": {
   "codemirror_mode": {
    "name": "ipython",
    "version": 3
   },
   "file_extension": ".py",
   "mimetype": "text/x-python",
   "name": "python",
   "nbconvert_exporter": "python",
   "pygments_lexer": "ipython3",
   "version": "3.7.3"
  }
 },
 "nbformat": 4,
 "nbformat_minor": 2
}
